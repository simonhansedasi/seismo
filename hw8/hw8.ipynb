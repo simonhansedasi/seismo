{
 "cells": [
  {
   "cell_type": "markdown",
   "id": "144ac073-7114-4ffe-a432-43930eed48d4",
   "metadata": {},
   "source": [
    "## 1.)"
   ]
  },
  {
   "cell_type": "markdown",
   "id": "aecdf3fd-8692-415f-8b9c-1f5d74adbd2c",
   "metadata": {},
   "source": [
    "### a.)"
   ]
  },
  {
   "cell_type": "code",
   "execution_count": 1,
   "id": "5fdd3397-255c-4f6c-870a-1f27d242b745",
   "metadata": {},
   "outputs": [],
   "source": [
    "\n",
    "\n",
    "# v_p = r / t_p "
   ]
  },
  {
   "cell_type": "markdown",
   "id": "6f6db358-f0e5-401f-9406-21fb44d46d1e",
   "metadata": {},
   "source": [
    "## 2.)"
   ]
  },
  {
   "cell_type": "code",
   "execution_count": 2,
   "id": "604a7014-3de4-4ab9-8058-67467d170f46",
   "metadata": {},
   "outputs": [],
   "source": [
    "import numpy as np\n",
    "M = np.array([\n",
    "    [-1.8 , -0.38, -0.96],\n",
    "    [-0.38, -1.9 , 0.62 ],\n",
    "    [-0.96,  0.62, 3.7  ]\n",
    "]) * 10**17"
   ]
  },
  {
   "cell_type": "markdown",
   "id": "74b7fa5c-5a3a-4193-9916-4cd80e2bb7e8",
   "metadata": {},
   "source": [
    "### a.)"
   ]
  },
  {
   "cell_type": "code",
   "execution_count": 3,
   "id": "c6a0acb5-3da2-40da-ad07-345ad8c50c05",
   "metadata": {},
   "outputs": [
    {
     "name": "stdout",
     "output_type": "stream",
     "text": [
      "M0 = 3.42350697385006e+17\n",
      "MW = 5.622980811255467\n"
     ]
    }
   ],
   "source": [
    "M_0 = 1/np.sqrt(2) * np.sqrt(sum(M.flatten()**2))\n",
    "print(f'M0 = {M_0}')\n",
    "\n",
    "M_W = (2/3) * (np.log10(M_0) - 9.1)\n",
    "print(f'MW = {M_W}')"
   ]
  },
  {
   "cell_type": "markdown",
   "id": "dd67244f-679f-4366-80dd-ca85be4a8d1b",
   "metadata": {},
   "source": [
    "### b.)"
   ]
  },
  {
   "cell_type": "code",
   "execution_count": 4,
   "id": "98f30de7-c16d-4a78-9c38-04cdfe460aec",
   "metadata": {},
   "outputs": [],
   "source": [
    "from numpy.linalg import eig"
   ]
  },
  {
   "cell_type": "code",
   "execution_count": 5,
   "id": "f4d2970a-e3c9-439d-b17d-5a70a242af02",
   "metadata": {},
   "outputs": [
    {
     "name": "stdout",
     "output_type": "stream",
     "text": [
      "[ 3.94087273e+17 -2.23977183e+17 -1.70110090e+17]\n"
     ]
    }
   ],
   "source": [
    "eig_val, eig_vec = np.linalg.eig(M)\n",
    "print(eig_val)"
   ]
  },
  {
   "cell_type": "code",
   "execution_count": 6,
   "id": "2b10a709-f1b4-4031-9110-104be31600e3",
   "metadata": {},
   "outputs": [
    {
     "data": {
      "text/plain": [
       "array([ 3.94087273e+17, -1.70110090e+17, -2.23977183e+17])"
      ]
     },
     "execution_count": 6,
     "metadata": {},
     "output_type": "execute_result"
    }
   ],
   "source": [
    "eig_vals = np.array([eig_val[0], eig_val[2], eig_val[1]])\n",
    "eig_vals"
   ]
  },
  {
   "cell_type": "code",
   "execution_count": null,
   "id": "67ef69bd-086f-491c-9fd6-4e76d6ea17a0",
   "metadata": {},
   "outputs": [],
   "source": []
  },
  {
   "cell_type": "code",
   "execution_count": 12,
   "id": "09d4ffcc-bb7a-41f3-bdf0-6f21d4a9baa8",
   "metadata": {},
   "outputs": [],
   "source": [
    "m_princ = np.array(\n",
    "    [\n",
    "        [eig_vals[0], 0, 0],\n",
    "        [0, eig_vals[1], 0],\n",
    "        [0, 0, eig_vals[2]]\n",
    "    ]\n",
    ")"
   ]
  },
  {
   "cell_type": "code",
   "execution_count": 13,
   "id": "bd7fe023-60a8-4c6f-a271-76aeda7f849d",
   "metadata": {},
   "outputs": [
    {
     "data": {
      "text/plain": [
       "array([[ 3.94087273e+17,  0.00000000e+00,  0.00000000e+00],\n",
       "       [ 0.00000000e+00, -1.70110090e+17,  0.00000000e+00],\n",
       "       [ 0.00000000e+00,  0.00000000e+00, -2.23977183e+17]])"
      ]
     },
     "execution_count": 13,
     "metadata": {},
     "output_type": "execute_result"
    }
   ],
   "source": [
    "m_princ"
   ]
  },
  {
   "cell_type": "markdown",
   "id": "51218d10-67d8-4a81-8642-15ce33e2870d",
   "metadata": {},
   "source": [
    "### c.)"
   ]
  },
  {
   "cell_type": "code",
   "execution_count": 9,
   "id": "d202b082-e945-466e-b623-e3a7808d0c25",
   "metadata": {},
   "outputs": [
    {
     "name": "stdout",
     "output_type": "stream",
     "text": [
      "Epsilon = -0.43,  pure compensated linear vector dipole source expected\n"
     ]
    }
   ],
   "source": [
    "eps = np.round(eig_vals[1] / abs(eig_vals[0]), 2)\n",
    "print(f'Epsilon = {eps},  pure compensated linear vector dipole source expected')"
   ]
  },
  {
   "cell_type": "markdown",
   "id": "710b2457-9c9d-4190-9242-61779619edf3",
   "metadata": {},
   "source": [
    "### d.)"
   ]
  },
  {
   "cell_type": "code",
   "execution_count": 10,
   "id": "dd132e44-2cba-4933-8f03-7203e55fadf6",
   "metadata": {},
   "outputs": [
    {
     "name": "stdout",
     "output_type": "stream",
     "text": [
      "[[ 3.09032228e+17  0.00000000e+00  0.00000000e+00]\n",
      " [ 0.00000000e+00  0.00000000e+00  0.00000000e+00]\n",
      " [ 0.00000000e+00  0.00000000e+00 -3.09032228e+17]]\n",
      "\n",
      "[[ 8.5055045e+16  0.0000000e+00  0.0000000e+00]\n",
      " [ 0.0000000e+00 -1.7011009e+17  0.0000000e+00]\n",
      " [ 0.0000000e+00  0.0000000e+00  8.5055045e+16]]\n"
     ]
    }
   ],
   "source": [
    "M_dc = np.array(\n",
    "    [\n",
    "        [(1/2)*(eig_vals[0] - eig_vals[2]), 0, 0],\n",
    "        [0, 0, 0],\n",
    "        [0, 0, (-1/2)*(eig_vals[0] - eig_vals[2])]\n",
    "    ]\n",
    ")\n",
    "\n",
    "M_clvd = np.array(\n",
    "    [\n",
    "        [-eig_vals[1] / 2, 0, 0],\n",
    "        [0, eig_vals[1], 0],\n",
    "        [0, 0, -eig_vals[1] / 2]\n",
    "    ]\n",
    ")\n",
    "\n",
    "print(M_dc)\n",
    "print('')\n",
    "print(M_clvd)"
   ]
  },
  {
   "cell_type": "code",
   "execution_count": 11,
   "id": "e56af4ab-4b03-4c66-aa3b-1e462795e784",
   "metadata": {},
   "outputs": [
    {
     "name": "stdout",
     "output_type": "stream",
     "text": [
      "3.0903222806802886e+17\n",
      "1.4731965929674778e+17\n"
     ]
    }
   ],
   "source": [
    "M_dc_scalar = 1/np.sqrt(2) * np.sqrt(sum(M_dc.flatten()**2))\n",
    "M_clvd_scalar = 1/np.sqrt(2) * np.sqrt(sum(M_clvd.flatten()**2))\n",
    "\n",
    "print(M_dc_scalar)\n",
    "print(M_clvd_scalar)"
   ]
  },
  {
   "cell_type": "markdown",
   "id": "749df4aa-26a8-4707-a813-974a1aa56dc3",
   "metadata": {},
   "source": [
    "### e.)"
   ]
  },
  {
   "cell_type": "code",
   "execution_count": null,
   "id": "92c97ede-2b9a-4657-8e79-8bdfe8cebb00",
   "metadata": {},
   "outputs": [],
   "source": []
  }
 ],
 "metadata": {
  "kernelspec": {
   "display_name": "Python 3 (ipykernel)",
   "language": "python",
   "name": "python3"
  },
  "language_info": {
   "codemirror_mode": {
    "name": "ipython",
    "version": 3
   },
   "file_extension": ".py",
   "mimetype": "text/x-python",
   "name": "python",
   "nbconvert_exporter": "python",
   "pygments_lexer": "ipython3",
   "version": "3.10.9"
  }
 },
 "nbformat": 4,
 "nbformat_minor": 5
}
