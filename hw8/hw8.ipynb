{
 "cells": [
  {
   "cell_type": "code",
   "execution_count": 1,
   "id": "737a2257-25e7-4f70-bcab-2303d285b016",
   "metadata": {},
   "outputs": [],
   "source": [
    "import numpy as np\n",
    "import scipy\n",
    "from scipy.optimize import fsolve"
   ]
  },
  {
   "cell_type": "markdown",
   "id": "144ac073-7114-4ffe-a432-43930eed48d4",
   "metadata": {},
   "source": [
    "## 1.)"
   ]
  },
  {
   "cell_type": "markdown",
   "id": "aecdf3fd-8692-415f-8b9c-1f5d74adbd2c",
   "metadata": {},
   "source": [
    "### a.) \n",
    "Derive an equation for distance from a station, r, as a function of its observed S − P time."
   ]
  },
  {
   "cell_type": "markdown",
   "id": "ddc6157a-825e-4baa-a1b1-2b75c7f4483e",
   "metadata": {},
   "source": [
    "$V = \\frac{r}{t} \\rightarrow t = \\frac{r}{V}$\n",
    "\n",
    "$V_{p} = \\frac{r}{t_{p}}$ and $V_{s} = \\frac{r}{t_{s}}$\n",
    "\n",
    "$t_{sp} = t_{s} - t_{p}  = \\frac{r}{V_{s}} - \\frac{r}{V_{p}} = \\frac{r\\left(V_{p} - V_{s}\\right)}{V_{s} V_{p}}$\n",
    "\n",
    "$r = \\frac{V_{s}V_{p}\\left(t_{sp} \\right)}{V_{p} - V_{s}} $"
   ]
  },
  {
   "cell_type": "markdown",
   "id": "b29ecbb0-c757-4a1d-a766-1bce2881da95",
   "metadata": {},
   "source": [
    "### b.)  \n",
    "Solve for the two possible locations for the earthquake. Give your results as the (x, y) km offset from station B"
   ]
  },
  {
   "cell_type": "code",
   "execution_count": 2,
   "id": "3e751142-c6b0-43f2-b2ed-c5590061052e",
   "metadata": {},
   "outputs": [],
   "source": [
    "vp = 6.5\n",
    "vs = 3.6\n",
    "tspa = 8\n",
    "tspb = 6"
   ]
  },
  {
   "cell_type": "code",
   "execution_count": 3,
   "id": "2104cd7f-88e5-4b51-afd9-4fe0d58aac15",
   "metadata": {},
   "outputs": [
    {
     "name": "stdout",
     "output_type": "stream",
     "text": [
      "Distance from station A: 64.55 km, distance from station B: 48.41 km\n"
     ]
    }
   ],
   "source": [
    "rA = np.round((vp * vs * tspa) / (vp - vs), 2)\n",
    "rB = np.round((vp * vs * tspb) / (vp - vs), 2)\n",
    "print(f'Distance from station A: {rA} km, distance from station B: {rB} km')"
   ]
  },
  {
   "cell_type": "code",
   "execution_count": 4,
   "id": "3377b980-5b8c-4419-88b3-455c09eb3de4",
   "metadata": {},
   "outputs": [],
   "source": [
    "def circles(x):\n",
    "    return[\n",
    "        x[0]**2 + (x[1]-50)**2 - rA**2,\n",
    "        x[0]**2 + x[1]**2 - rB**2        \n",
    "    ]"
   ]
  },
  {
   "cell_type": "code",
   "execution_count": 5,
   "id": "95329e72-c0c5-4daf-8e29-58f51a185faf",
   "metadata": {},
   "outputs": [
    {
     "name": "stdout",
     "output_type": "stream",
     "text": [
      "Event location on the grid: (+/-47.93, 6.77)\n"
     ]
    }
   ],
   "source": [
    "roots = np.round(fsolve(circles, [0,0]),2)\n",
    "print(f'Event location on the grid: (+/-{roots[0]}, {roots[1]})')"
   ]
  },
  {
   "cell_type": "markdown",
   "id": "59a4e7a0-f221-4ba1-9ed4-39d2f25dc241",
   "metadata": {},
   "source": [
    "### c.)  \n",
    "For each earthquake location, what is the predicted S − P time at Latteville?"
   ]
  },
  {
   "cell_type": "code",
   "execution_count": 6,
   "id": "72220bdb-1856-478b-841f-a86806c6c703",
   "metadata": {},
   "outputs": [
    {
     "name": "stdout",
     "output_type": "stream",
     "text": [
      "Locations on the grid - source1: [-47.93, 6.77] (offshore), source2: [47.93, 6.77] (onshore)\n"
     ]
    }
   ],
   "source": [
    "# define position of Latteville (Lt), and potential sources\n",
    "Lt = [100,25]\n",
    "src1 = [-roots[0], roots[1]]\n",
    "src2 = [roots[0], roots[1]]\n",
    "print(f'Locations on the grid - source1: {src1} (offshore), source2: {src2} (onshore)')"
   ]
  },
  {
   "cell_type": "code",
   "execution_count": 7,
   "id": "b5661d38-e9b5-4b23-b1c6-aea179d2dd5e",
   "metadata": {},
   "outputs": [
    {
     "name": "stdout",
     "output_type": "stream",
     "text": [
      "Linear distance from Latteville to source1: 149.05 km, source2: 55.17 km\n"
     ]
    }
   ],
   "source": [
    "# Define r as linear distance between Latteville and sources on the grid\n",
    "r1 = np.round(np.sqrt(\n",
    "    (Lt[0] - src1[0])**2 + (Lt[1] - src1[1])**2\n",
    "),2)\n",
    "\n",
    "r2 = np.round(np.sqrt(\n",
    "    (Lt[0] - src2[0])**2 + (Lt[1] - src2[1])**2\n",
    "),2)\n",
    "\n",
    "print(f'Linear distance from Latteville to source1: {r1} km, source2: {r2} km')"
   ]
  },
  {
   "cell_type": "code",
   "execution_count": 8,
   "id": "1589c8d3-40f2-4e74-9dad-4dbc52c9fde2",
   "metadata": {},
   "outputs": [
    {
     "name": "stdout",
     "output_type": "stream",
     "text": [
      "P and S wave spread from source 1 (offshore): 18.47 s, source 2: 6.84 s\n"
     ]
    }
   ],
   "source": [
    "tsp1 = np.round((r1 * (vp - vs)) / (vp*vs), 2)\n",
    "tsp2 = np.round((r2 * (vp - vs)) / (vp*vs), 2)\n",
    "print(f'P and S wave spread from source 1 (offshore): {tsp1} s, source 2: {tsp2} s')"
   ]
  },
  {
   "cell_type": "markdown",
   "id": "d4cd471b-df49-433b-b953-c0ae9512df14",
   "metadata": {},
   "source": [
    "### d.)  \n",
    "The strongest ground shaking usually results from S waves. Assuming the offshore location is correct, how much advance warning could be conveyed to Latteville before the S wave arrives at Latteville? Assume that the warning is possible as soon as the S wave has arrived at both stations."
   ]
  },
  {
   "cell_type": "code",
   "execution_count": 9,
   "id": "13dad217-15fc-47e1-ae45-edee6bfe65eb",
   "metadata": {},
   "outputs": [
    {
     "name": "stdout",
     "output_type": "stream",
     "text": [
      "S wave arrivals at A: 17.93 s, B: 13.45 s, Latteville: 41.4 s\n",
      "Available time for warning: 23.47 s\n"
     ]
    }
   ],
   "source": [
    "# define s wave arrival time at stations.\n",
    "s1 = np.round(rA / vs,2)\n",
    "s2 = np.round(rB / vs,2)\n",
    "sL = np.round(r1 / vs,2)\n",
    "print(f'S wave arrivals at A: {s1} s, B: {s2} s, Latteville: {sL} s')\n",
    "print(f'Available time for warning: {sL - s1} s')"
   ]
  },
  {
   "cell_type": "markdown",
   "id": "abcc0656-c797-480c-8ecb-fe13656ec0c1",
   "metadata": {},
   "source": [
    "### e.)  \n",
    "How much pre-S-wave warning could be provided to Latteville if the offshore earthquake location and origin time were known instantly (e.g., from a dense offshore network of seismometers)?"
   ]
  },
  {
   "cell_type": "markdown",
   "id": "707b90f5-7603-4d13-b3a3-2307d849a3f3",
   "metadata": {},
   "source": [
    "I suppose it would be the maximum time for the S wave to arrive in Latteville, which is about 41 seconds. Minus the telemetry delay, of course"
   ]
  },
  {
   "cell_type": "markdown",
   "id": "6f6db358-f0e5-401f-9406-21fb44d46d1e",
   "metadata": {},
   "source": [
    "## 2.)"
   ]
  },
  {
   "cell_type": "code",
   "execution_count": 10,
   "id": "604a7014-3de4-4ab9-8058-67467d170f46",
   "metadata": {},
   "outputs": [],
   "source": [
    "import numpy as np\n",
    "M = np.array([\n",
    "    [-1.8 , -0.38, -0.96],\n",
    "    [-0.38, -1.9 , 0.62 ],\n",
    "    [-0.96,  0.62, 3.7  ]\n",
    "]) * 10**17"
   ]
  },
  {
   "cell_type": "markdown",
   "id": "74b7fa5c-5a3a-4193-9916-4cd80e2bb7e8",
   "metadata": {},
   "source": [
    "### a.)\n",
    "Compute M0 and MW for this event.Compute M0 and MW for this event."
   ]
  },
  {
   "cell_type": "code",
   "execution_count": 11,
   "id": "c6a0acb5-3da2-40da-ad07-345ad8c50c05",
   "metadata": {},
   "outputs": [
    {
     "name": "stdout",
     "output_type": "stream",
     "text": [
      "M0 = 3.42350697385006e+17\n",
      "MW = 5.622980811255467\n"
     ]
    }
   ],
   "source": [
    "M_0 = 1/np.sqrt(2) * np.sqrt(sum(M.flatten()**2))\n",
    "print(f'M0 = {M_0}')\n",
    "\n",
    "M_W = (2/3) * (np.log10(M_0) - 9.1)\n",
    "print(f'MW = {M_W}')"
   ]
  },
  {
   "cell_type": "markdown",
   "id": "dd67244f-679f-4366-80dd-ca85be4a8d1b",
   "metadata": {},
   "source": [
    "### b.)\n",
    "Compute the eigenvalues σ1, σ2, and σ3 (sorted such that σ1 > σ2 > σ3) and express M in its principal axes coordinates."
   ]
  },
  {
   "cell_type": "code",
   "execution_count": 12,
   "id": "98f30de7-c16d-4a78-9c38-04cdfe460aec",
   "metadata": {},
   "outputs": [],
   "source": [
    "from numpy.linalg import eig"
   ]
  },
  {
   "cell_type": "code",
   "execution_count": 13,
   "id": "f4d2970a-e3c9-439d-b17d-5a70a242af02",
   "metadata": {},
   "outputs": [
    {
     "name": "stdout",
     "output_type": "stream",
     "text": [
      "[ 3.94087273e+17 -2.23977183e+17 -1.70110090e+17]\n"
     ]
    }
   ],
   "source": [
    "eig_val, eig_vec = np.linalg.eig(M)\n",
    "print(eig_val)"
   ]
  },
  {
   "cell_type": "code",
   "execution_count": 14,
   "id": "2b10a709-f1b4-4031-9110-104be31600e3",
   "metadata": {},
   "outputs": [
    {
     "data": {
      "text/plain": [
       "array([ 3.94087273e+17, -1.70110090e+17, -2.23977183e+17])"
      ]
     },
     "execution_count": 14,
     "metadata": {},
     "output_type": "execute_result"
    }
   ],
   "source": [
    "eig_vals = np.array([eig_val[0], eig_val[2], eig_val[1]])\n",
    "eig_vals"
   ]
  },
  {
   "cell_type": "code",
   "execution_count": 15,
   "id": "09d4ffcc-bb7a-41f3-bdf0-6f21d4a9baa8",
   "metadata": {},
   "outputs": [],
   "source": [
    "m_princ = np.array(\n",
    "    [\n",
    "        [eig_vals[0], 0, 0],\n",
    "        [0, eig_vals[1], 0],\n",
    "        [0, 0, eig_vals[2]]\n",
    "    ]\n",
    ")"
   ]
  },
  {
   "cell_type": "code",
   "execution_count": 16,
   "id": "bd7fe023-60a8-4c6f-a271-76aeda7f849d",
   "metadata": {},
   "outputs": [
    {
     "data": {
      "text/plain": [
       "array([[ 3.94087273e+17,  0.00000000e+00,  0.00000000e+00],\n",
       "       [ 0.00000000e+00, -1.70110090e+17,  0.00000000e+00],\n",
       "       [ 0.00000000e+00,  0.00000000e+00, -2.23977183e+17]])"
      ]
     },
     "execution_count": 16,
     "metadata": {},
     "output_type": "execute_result"
    }
   ],
   "source": [
    "m_princ"
   ]
  },
  {
   "cell_type": "markdown",
   "id": "51218d10-67d8-4a81-8642-15ce33e2870d",
   "metadata": {},
   "source": [
    "### c.)\n",
    "Compute the parameter (equation 9.17), the measure of the misfit with a double-couple source. Is its value close to that expected for a pure double-couple (DC) source or a pure compensated linear vector dipole (CLVD) source? "
   ]
  },
  {
   "cell_type": "code",
   "execution_count": 17,
   "id": "d202b082-e945-466e-b623-e3a7808d0c25",
   "metadata": {},
   "outputs": [
    {
     "name": "stdout",
     "output_type": "stream",
     "text": [
      "Epsilon = -0.43,  pure compensated linear vector dipole (CLVD) source expected\n"
     ]
    }
   ],
   "source": [
    "eps = np.round(eig_vals[1] / abs(eig_vals[0]), 2)\n",
    "print(f'Epsilon = {eps},  pure compensated linear vector dipole (CLVD) source expected')"
   ]
  },
  {
   "cell_type": "markdown",
   "id": "710b2457-9c9d-4190-9242-61779619edf3",
   "metadata": {},
   "source": [
    "### d.)\n",
    "Decompose M into MDC and MCLV D using Equation (9.14) and compute the scalar moment of each part."
   ]
  },
  {
   "cell_type": "code",
   "execution_count": 18,
   "id": "dd132e44-2cba-4933-8f03-7203e55fadf6",
   "metadata": {},
   "outputs": [
    {
     "name": "stdout",
     "output_type": "stream",
     "text": [
      "[[ 3.09032228e+17  0.00000000e+00  0.00000000e+00]\n",
      " [ 0.00000000e+00  0.00000000e+00  0.00000000e+00]\n",
      " [ 0.00000000e+00  0.00000000e+00 -3.09032228e+17]]\n",
      "\n",
      "[[ 8.5055045e+16  0.0000000e+00  0.0000000e+00]\n",
      " [ 0.0000000e+00 -1.7011009e+17  0.0000000e+00]\n",
      " [ 0.0000000e+00  0.0000000e+00  8.5055045e+16]]\n"
     ]
    }
   ],
   "source": [
    "M_dc = np.array(\n",
    "    [\n",
    "        [(1/2)*(eig_vals[0] - eig_vals[2]), 0, 0],\n",
    "        [0, 0, 0],\n",
    "        [0, 0, (-1/2)*(eig_vals[0] - eig_vals[2])]\n",
    "    ]\n",
    ")\n",
    "\n",
    "M_clvd = np.array(\n",
    "    [\n",
    "        [-eig_vals[1] / 2, 0, 0],\n",
    "        [0, eig_vals[1], 0],\n",
    "        [0, 0, -eig_vals[1] / 2]\n",
    "    ]\n",
    ")\n",
    "\n",
    "print(M_dc)\n",
    "print('')\n",
    "print(M_clvd)"
   ]
  },
  {
   "cell_type": "code",
   "execution_count": 19,
   "id": "e56af4ab-4b03-4c66-aa3b-1e462795e784",
   "metadata": {},
   "outputs": [
    {
     "name": "stdout",
     "output_type": "stream",
     "text": [
      "3.0903222806802886e+17\n",
      "1.4731965929674778e+17\n"
     ]
    }
   ],
   "source": [
    "M_dc_scalar = 1/np.sqrt(2) * np.sqrt(sum(M_dc.flatten()**2))\n",
    "M_clvd_scalar = 1/np.sqrt(2) * np.sqrt(sum(M_clvd.flatten()**2))\n",
    "\n",
    "print(M_dc_scalar)\n",
    "print(M_clvd_scalar)"
   ]
  },
  {
   "cell_type": "markdown",
   "id": "749df4aa-26a8-4707-a813-974a1aa56dc3",
   "metadata": {},
   "source": [
    "### e.)\n",
    "Devise an alternative decomposition of M into MDC and MCLVD that maximizes the CLVD part and compute the scalar seismic"
   ]
  },
  {
   "cell_type": "markdown",
   "id": "2750ec2f-e77e-4929-8f5b-788406d56679",
   "metadata": {},
   "source": [
    "### f.)\n",
    "Explain your results in (a), (d), and (e) in terms of your computed  parameter in (c). Hint: copy your lines of codes used to compute the parameters"
   ]
  },
  {
   "cell_type": "markdown",
   "id": "62011670-eff8-4df5-a97b-d9baa96676cd",
   "metadata": {},
   "source": [
    "## 3.)"
   ]
  },
  {
   "cell_type": "markdown",
   "id": "ce9cb427-43b0-4a6f-bfe2-0ca5e506a430",
   "metadata": {},
   "source": [
    "Simple line of best fit to the data produces an equation to estimate error:\n",
    "\n",
    "Expected Error = 1.55 * true magnitude + 0.02"
   ]
  }
 ],
 "metadata": {
  "kernelspec": {
   "display_name": "Python 3 (ipykernel)",
   "language": "python",
   "name": "python3"
  },
  "language_info": {
   "codemirror_mode": {
    "name": "ipython",
    "version": 3
   },
   "file_extension": ".py",
   "mimetype": "text/x-python",
   "name": "python",
   "nbconvert_exporter": "python",
   "pygments_lexer": "ipython3",
   "version": "3.10.9"
  }
 },
 "nbformat": 4,
 "nbformat_minor": 5
}
