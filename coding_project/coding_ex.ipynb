{
 "cells": [
  {
   "cell_type": "markdown",
   "metadata": {
    "id": "8ATFs1aVPDYG"
   },
   "source": [
    "# Programming exercise \\#1 of ESS 412/512\n",
    "\n",
    "We will do 3 exercises:\n",
    "## 1. Travel-time curves in a 1D Earth model (chapter 4, question 8 of ITS). 10 points.\n",
    "## 2. Global phase recognition in seismograms from teleseismimc earthquakes. 10 points.\n",
    "## 3. Travel-time tomography in a 2D Earth (chapter 5, question2 of the 3rd edition of ITS). 10 points."
   ]
  },
  {
   "cell_type": "code",
   "execution_count": null,
   "metadata": {
    "colab": {
     "base_uri": "https://localhost:8080/"
    },
    "collapsed": true,
    "executionInfo": {
     "elapsed": 16604,
     "status": "ok",
     "timestamp": 1676296388524,
     "user": {
      "displayName": "Marine Denolle",
      "userId": "06487926295753276573"
     },
     "user_tz": 480
    },
    "id": "AMHIFgGKrjKo",
    "jupyter": {
     "outputs_hidden": true
    },
    "outputId": "6ed61c5c-5e19-41bd-d219-750ec4b4a135"
   },
   "outputs": [
    {
     "name": "stdout",
     "output_type": "stream",
     "text": [
      "Looking in indexes: https://pypi.org/simple, https://us-python.pkg.dev/colab-wheels/public/simple/\n",
      "Requirement already satisfied: obspy in /usr/local/lib/python3.8/dist-packages (1.4.0)\n",
      "Requirement already satisfied: requests in /usr/local/lib/python3.8/dist-packages (from obspy) (2.25.1)\n",
      "Requirement already satisfied: matplotlib>=3.3 in /usr/local/lib/python3.8/dist-packages (from obspy) (3.6.3)\n",
      "Requirement already satisfied: numpy>=1.20 in /usr/local/lib/python3.8/dist-packages (from obspy) (1.21.6)\n",
      "Requirement already satisfied: sqlalchemy in /usr/local/lib/python3.8/dist-packages (from obspy) (1.4.46)\n",
      "Requirement already satisfied: decorator in /usr/local/lib/python3.8/dist-packages (from obspy) (4.4.2)\n",
      "Requirement already satisfied: lxml in /usr/local/lib/python3.8/dist-packages (from obspy) (4.9.2)\n",
      "Requirement already satisfied: scipy>=1.7 in /usr/local/lib/python3.8/dist-packages (from obspy) (1.7.3)\n",
      "Requirement already satisfied: setuptools in /usr/local/lib/python3.8/dist-packages (from obspy) (57.4.0)\n",
      "Requirement already satisfied: pyparsing>=2.2.1 in /usr/local/lib/python3.8/dist-packages (from matplotlib>=3.3->obspy) (3.0.9)\n",
      "Requirement already satisfied: cycler>=0.10 in /usr/local/lib/python3.8/dist-packages (from matplotlib>=3.3->obspy) (0.11.0)\n",
      "Requirement already satisfied: python-dateutil>=2.7 in /usr/local/lib/python3.8/dist-packages (from matplotlib>=3.3->obspy) (2.8.2)\n",
      "Requirement already satisfied: contourpy>=1.0.1 in /usr/local/lib/python3.8/dist-packages (from matplotlib>=3.3->obspy) (1.0.7)\n",
      "Requirement already satisfied: kiwisolver>=1.0.1 in /usr/local/lib/python3.8/dist-packages (from matplotlib>=3.3->obspy) (1.4.4)\n",
      "Requirement already satisfied: packaging>=20.0 in /usr/local/lib/python3.8/dist-packages (from matplotlib>=3.3->obspy) (23.0)\n",
      "Requirement already satisfied: fonttools>=4.22.0 in /usr/local/lib/python3.8/dist-packages (from matplotlib>=3.3->obspy) (4.38.0)\n",
      "Requirement already satisfied: pillow>=6.2.0 in /usr/local/lib/python3.8/dist-packages (from matplotlib>=3.3->obspy) (7.1.2)\n",
      "Requirement already satisfied: certifi>=2017.4.17 in /usr/local/lib/python3.8/dist-packages (from requests->obspy) (2022.12.7)\n",
      "Requirement already satisfied: urllib3<1.27,>=1.21.1 in /usr/local/lib/python3.8/dist-packages (from requests->obspy) (1.24.3)\n",
      "Requirement already satisfied: chardet<5,>=3.0.2 in /usr/local/lib/python3.8/dist-packages (from requests->obspy) (4.0.0)\n",
      "Requirement already satisfied: idna<3,>=2.5 in /usr/local/lib/python3.8/dist-packages (from requests->obspy) (2.10)\n",
      "Requirement already satisfied: greenlet!=0.4.17 in /usr/local/lib/python3.8/dist-packages (from sqlalchemy->obspy) (2.0.2)\n",
      "Requirement already satisfied: six>=1.5 in /usr/local/lib/python3.8/dist-packages (from python-dateutil>=2.7->matplotlib>=3.3->obspy) (1.15.0)\n",
      "Looking in indexes: https://pypi.org/simple, https://us-python.pkg.dev/colab-wheels/public/simple/\n",
      "Requirement already satisfied: matplotlib in /usr/local/lib/python3.8/dist-packages (3.6.3)\n",
      "Requirement already satisfied: pillow>=6.2.0 in /usr/local/lib/python3.8/dist-packages (from matplotlib) (7.1.2)\n",
      "Requirement already satisfied: kiwisolver>=1.0.1 in /usr/local/lib/python3.8/dist-packages (from matplotlib) (1.4.4)\n",
      "Requirement already satisfied: python-dateutil>=2.7 in /usr/local/lib/python3.8/dist-packages (from matplotlib) (2.8.2)\n",
      "Requirement already satisfied: cycler>=0.10 in /usr/local/lib/python3.8/dist-packages (from matplotlib) (0.11.0)\n",
      "Requirement already satisfied: numpy>=1.19 in /usr/local/lib/python3.8/dist-packages (from matplotlib) (1.21.6)\n",
      "Requirement already satisfied: packaging>=20.0 in /usr/local/lib/python3.8/dist-packages (from matplotlib) (23.0)\n",
      "Requirement already satisfied: pyparsing>=2.2.1 in /usr/local/lib/python3.8/dist-packages (from matplotlib) (3.0.9)\n",
      "Requirement already satisfied: contourpy>=1.0.1 in /usr/local/lib/python3.8/dist-packages (from matplotlib) (1.0.7)\n",
      "Requirement already satisfied: fonttools>=4.22.0 in /usr/local/lib/python3.8/dist-packages (from matplotlib) (4.38.0)\n",
      "Requirement already satisfied: six>=1.5 in /usr/local/lib/python3.8/dist-packages (from python-dateutil>=2.7->matplotlib) (1.15.0)\n",
      "Looking in indexes: https://pypi.org/simple, https://us-python.pkg.dev/colab-wheels/public/simple/\n",
      "Requirement already satisfied: numpy in /usr/local/lib/python3.8/dist-packages (1.21.6)\n",
      "Looking in indexes: https://pypi.org/simple, https://us-python.pkg.dev/colab-wheels/public/simple/\n",
      "Requirement already satisfied: pandas in /usr/local/lib/python3.8/dist-packages (1.3.5)\n",
      "Requirement already satisfied: python-dateutil>=2.7.3 in /usr/local/lib/python3.8/dist-packages (from pandas) (2.8.2)\n",
      "Requirement already satisfied: numpy>=1.17.3 in /usr/local/lib/python3.8/dist-packages (from pandas) (1.21.6)\n",
      "Requirement already satisfied: pytz>=2017.3 in /usr/local/lib/python3.8/dist-packages (from pandas) (2022.7.1)\n",
      "Requirement already satisfied: six>=1.5 in /usr/local/lib/python3.8/dist-packages (from python-dateutil>=2.7.3->pandas) (1.15.0)\n"
     ]
    }
   ],
   "source": [
    "# we need to install obspy\n",
    "!pip install obspy\n",
    "!pip install matplotlib\n",
    "!pip install numpy\n",
    "!pip install pandas"
   ]
  },
  {
   "cell_type": "markdown",
   "metadata": {
    "id": "hXREjN39OEIz"
   },
   "source": [
    "## 1. Travel-time in a 1D Earth\n",
    "\n",
    "\n",
    "Write a computer program in this notebook to solve Chapter 4, Exercise 8: Calculate travel time curves for an oceanic crustal model using ray tracing. \n",
    "\n",
    "In this programming exercise, you will be expected to document your scripting and construct your code using best-practices for python programming. Some resources to get started in python are provided by the [Software Carpentry](!https://swcarpentry.github.io/python-novice-inflammation/)."
   ]
  },
  {
   "cell_type": "code",
   "execution_count": null,
   "metadata": {
    "id": "_16WlPRxRaLT"
   },
   "outputs": [],
   "source": [
    "import numpy as np\n",
    "import matplotlib.pyplot as plt"
   ]
  },
  {
   "cell_type": "markdown",
   "metadata": {
    "id": "lQc438b-RJdr"
   },
   "source": [
    "\n",
    "We will need the function ```layerxt``` that calculate ``dX`` and ``dT`` as a function of the ray parameter ``p``, layer thickness, and slowness at the top and bottom of a given layer with a constant velocity gradient."
   ]
  },
  {
   "cell_type": "code",
   "execution_count": null,
   "metadata": {
    "id": "Qcg9MbIwO_83"
   },
   "outputs": [],
   "source": [
    "# LAYERXT calculates dx and dt for a ray in a layer with a linear\n",
    "#   velocity gradient.  This is a highly modified version of a\n",
    "#   Fortran subroutine in Chris Chapman's WKBJ program.\n",
    "#\n",
    "# Inputs:   p     =  horizontal slowness\n",
    "#           h     =  layer thickness\n",
    "#           utop  =  slowness at top of layer\n",
    "#           ubot  =  slowness at bottom of layer\n",
    "# Returns:  dx    =  range offset\n",
    "#           dt    =  travel time\n",
    "#           irtr  =  return code\n",
    "#                 = -1,  zero thickness layer\n",
    "#                 =  0,  ray turned above layer\n",
    "#                 =  1,  ray passed through layer\n",
    "#                 =  2,  ray turned in layer, 1 leg counted in dx,dt\n",
    "def layerxt(p, h, utop, ubot):\n",
    "  # returns [dx, dt, irtr]\n",
    "  \n",
    "  if p >= utop:\n",
    "     return [0.0, 0.0, 0]\n",
    "  elif h==0:\n",
    "     return [0.0, 0.0, -1]\n",
    "  else:\n",
    "    b = 1.0/(ubot*h) - 1.0/(utop*h)\n",
    "    def eta(u): return np.sqrt(u**2 - p**2)\n",
    "    def x(u): return eta(u)/(u*b*p)\n",
    "    def t(u): return (np.log((u + eta(u))/p))/b\n",
    "    if utop == ubot:\n",
    "       return [h*p/eta(utop), h*utop**2/eta(utop), 1 ]\n",
    "    elif p>=ubot:\n",
    "       return [x(utop), t(utop), 2]\n",
    "    else:\n",
    "       return [x(utop) - x(ubot), t(utop) - t(ubot), 1]"
   ]
  },
  {
   "cell_type": "markdown",
   "metadata": {
    "id": "tWRUkhlTSQ8m"
   },
   "source": [
    "Now we will tackle Exercise 8 from Chapter 4 in \"Introduction to Seismology\".\n",
    "\n",
    "Consider MARMOD, a velocity-versus-depth model, which is typical of much of the oceanic crust (Table 1). Linear velocity gradients are assumed to exist at intermediate depths in the model; for example, the P velocity at 3.75 km is 6.9 km/s.Write a computer program to trace rays through this model and produce a P-wave T(X) curve, using 100 values of the ray parameter p equally spaced between 0.1236 and 0.2217 s/km.\n",
    "\n",
    "Table 1. MARMOD, a generic marine seismic model\n",
    "\n",
    "| Depth (km) | Vp (km/s) | Vs (km/s) | density (kg/dm^3) |\n",
    "| ---------- | -------- | ---------| -------|\n",
    "| 0.0 | 4.5 | 3.4 | 2.0|\n",
    "| 1.5 | 6.8 | 3.75 | 2.8 |\n",
    "| 6.0 | 7.0 | 3.85 | 2.9 |\n",
    "| 10.0 | 8.1 | 4.7 | 3.1 |\n",
    "\n",
    "Your program will involve an outer loop over ray parameter  $p$ and an inner loop over depth in the model.\n",
    "\n",
    "For each ray, set ``x`` and ``t`` to zero and then, starting with the surface layer and proceeding downward, sum the\n",
    "contributions, ``dx`` and ``dt``, from ```LAYERXT``` for each layer until the ray turns. This will give x and t for the ray from the surface to the turning point.\n",
    "\n",
    "Multiply by two to obtain the total surface-to-surface values of $X(p)$ and $T(p)$. \n",
    "\n",
    "Now produce plots of: (a) $T(X)$ plotted with a reduction velocity of 8 km/s, (b) $X(p)$, and (c) $τ(p)$. On each plot, label the prograde and retrograde branches. Where might one anticipate that the largest amplitudes will occur?"
   ]
  },
  {
   "cell_type": "markdown",
   "metadata": {
    "id": "nFtSxPB7Uxov"
   },
   "source": [
    "### a) Define the depth and velocity model (2  points)"
   ]
  },
  {
   "cell_type": "code",
   "execution_count": null,
   "metadata": {
    "id": "ZTkfDoWMUvG7"
   },
   "outputs": [],
   "source": [
    "# solution"
   ]
  },
  {
   "cell_type": "markdown",
   "metadata": {
    "id": "phFPPgcuU96Q"
   },
   "source": [
    ":### b) Create the ray parameter vector with 100 values equally spaced between 0.1236 and 0.2217 s/km. (2 points)"
   ]
  },
  {
   "cell_type": "code",
   "execution_count": null,
   "metadata": {
    "id": "F6P7wnqrVPFs"
   },
   "outputs": [],
   "source": [
    "# solution"
   ]
  },
  {
   "cell_type": "markdown",
   "metadata": {
    "id": "sS7ZfQmwVfeg"
   },
   "source": [
    "### c) Loop through ray parameters, calculate range offset and travel time. (4 points)"
   ]
  },
  {
   "cell_type": "code",
   "execution_count": null,
   "metadata": {
    "id": "qy-KZdugVfRA"
   },
   "outputs": [],
   "source": [
    "#solution"
   ]
  },
  {
   "cell_type": "code",
   "execution_count": null,
   "metadata": {
    "id": "ZoNulNk-omBs"
   },
   "outputs": [],
   "source": []
  },
  {
   "cell_type": "code",
   "execution_count": null,
   "metadata": {
    "id": "it0Ff3Yhol_C"
   },
   "outputs": [],
   "source": []
  },
  {
   "cell_type": "markdown",
   "metadata": {
    "id": "X5RURd_4Ewde"
   },
   "source": [
    "### d) Plot the travel time T-X/8, Tau curve as a function of distance (2 points)"
   ]
  },
  {
   "cell_type": "code",
   "execution_count": null,
   "metadata": {
    "colab": {
     "base_uri": "https://localhost:8080/",
     "height": 296
    },
    "collapsed": true,
    "executionInfo": {
     "elapsed": 1045,
     "status": "ok",
     "timestamp": 1676160731250,
     "user": {
      "displayName": "Marine Denolle",
      "userId": "06487926295753276573"
     },
     "user_tz": 480
    },
    "id": "UVEp8doyYLBs",
    "jupyter": {
     "outputs_hidden": true
    },
    "outputId": "4c857c77-8e66-45d6-a178-b119d85e31e2"
   },
   "outputs": [
    {
     "data": {
      "text/plain": [
       "Text(0, 0.5, 'Depth (km)')"
      ]
     },
     "execution_count": 6,
     "metadata": {},
     "output_type": "execute_result"
    },
    {
     "data": {
      "image/png": "[encoded data removed]",
      "text/plain": [
       "<Figure size 432x288 with 3 Axes>"
      ]
     },
     "metadata": {},
     "output_type": "display_data"
    }
   ],
   "source": [
    "fig,ax=plt.subplots(3,1)"
   ]
  },
  {
   "cell_type": "markdown",
   "metadata": {
    "id": "GjN1JQavQzeL"
   },
   "source": [
    "## #2. Global Phase Recognition in teleseismic waveforms (10 points)\n",
    "\n",
    "In this exercise, we will download the data from the recent M7.8 Earthquake in Turkey. The origin time of the earthquake was 2023-02-06 01:17:35 in UTC. The earthquake was a shallow crustal earthquakes at an approximate depth of 15 km.\n",
    "\n",
    "We will look at the seisomgrams from a local station CI.HEC, specifically the HHZ channel.\n"
   ]
  },
  {
   "cell_type": "markdown",
   "metadata": {
    "id": "x5T7fmkCrTsO"
   },
   "source": [
    "Import modules"
   ]
  },
  {
   "cell_type": "code",
   "execution_count": null,
   "metadata": {
    "id": "X1-ldUg5rWWS"
   },
   "outputs": [],
   "source": [
    "import obspy\n",
    "from obspy.clients.fdsn import Client "
   ]
  },
  {
   "cell_type": "markdown",
   "metadata": {
    "id": "5BpuConJrXY6"
   },
   "source": [
    "### 1. Collect earthquake metadata from IRIS"
   ]
  },
  {
   "cell_type": "code",
   "execution_count": null,
   "metadata": {
    "colab": {
     "base_uri": "https://localhost:8080/"
    },
    "collapsed": true,
    "executionInfo": {
     "elapsed": 498,
     "status": "ok",
     "timestamp": 1676163101258,
     "user": {
      "displayName": "Marine Denolle",
      "userId": "06487926295753276573"
     },
     "user_tz": 480
    },
    "id": "2IOFSWmqraYV",
    "jupyter": {
     "outputs_hidden": true
    },
    "outputId": "af6e1ab7-5457-487f-d089-415464cc3933"
   },
   "outputs": [
    {
     "name": "stdout",
     "output_type": "stream",
     "text": [
      "Magnitude of the earthquale: 7.8\n",
      "origin time of the earthquake: 2023-02-06T01:17:35.525000Z\n",
      "Hypocenter of the earthquake: 37.1662 37.0421 17.943\n"
     ]
    }
   ],
   "source": [
    "# get event info for the Turkey Earthquake \n",
    "client = Client(\"IRIS\") # connect to IRIS earthquake service\n",
    "\n",
    "# provide times t1 and t2 before and after earthquake \n",
    "t1 = obspy.UTCDateTime(\"2023-02-06\") # for example 2000-01-01T00:00:00 for 1/1/2000\n",
    "t2 = obspy.UTCDateTime(\"2023-02-09\") #\n",
    "cat = client.get_events(starttime=t1, endtime=t2, minmagnitude=7.6)\n",
    "Mag = cat[0].magnitudes[0].mag\n",
    "print(\"Magnitude of the earthquale:\",Mag)\n",
    "t0 = cat[0].origins[0].time\n",
    "print(\"origin time of the earthquake:\",t0)\n",
    "lat0 = cat[0].origins[0].latitude\n",
    "lon0 = cat[0].origins[0].longitude\n",
    "depth0 = cat[0].origins[0].depth/1000 # convert to km\n",
    "print(\"Hypocenter of the earthquake:\",lat0,lon0,depth0)"
   ]
  },
  {
   "cell_type": "markdown",
   "metadata": {
    "id": "ipkrXJjIug53"
   },
   "source": [
    "### 2. Collect station metadata from IRIS \n",
    "\n",
    "1.   List item\n",
    "2.   List item\n",
    "\n"
   ]
  },
  {
   "cell_type": "code",
   "execution_count": null,
   "metadata": {
    "id": "xmuGxEOvuKXh"
   },
   "outputs": [],
   "source": [
    "st=client.get_stations(network=\"IU\",station=\"DWPF\",location=\"*\",channel=\"BHZ\",\\\n",
    "                       starttime=t0-1800,endtime=t0+86400,level=\"response\")\n",
    "#station information\n",
    "slat=st[0][0].latitude\n",
    "slon=st[0][0].longitude"
   ]
  },
  {
   "cell_type": "markdown",
   "metadata": {
    "id": "EMwsYW5Sjasn"
   },
   "source": [
    "### 3. Calculate the distance between source and receiver."
   ]
  },
  {
   "cell_type": "code",
   "execution_count": null,
   "metadata": {
    "colab": {
     "base_uri": "https://localhost:8080/"
    },
    "collapsed": true,
    "executionInfo": {
     "elapsed": 127,
     "status": "ok",
     "timestamp": 1676163105138,
     "user": {
      "displayName": "Marine Denolle",
      "userId": "06487926295753276573"
     },
     "user_tz": 480
    },
    "id": "uJk5hzAgZyHM",
    "jupyter": {
     "outputs_hidden": true
    },
    "outputId": "4b14099a-bdef-4059-fc07-ab6ac90a8bda"
   },
   "outputs": [
    {
     "name": "stdout",
     "output_type": "stream",
     "text": [
      "great-arc distance in km 10349.32003340213 azimuth (deg) 309.13613906162584 backazimuth (deg) 44.51536185482274\n",
      "angular distance (in deg) 92.89291268742701\n"
     ]
    }
   ],
   "source": [
    "from obspy.geodetics.base import gps2dist_azimuth\n",
    "from obspy.geodetics import locations2degrees\n",
    "# find the great-arc distance, the azimmuth, and the backazimuth\n",
    "dist,az,baz=gps2dist_azimuth(lat0,lon0,slat,slon)\n",
    "print(\"great-arc distance in km\",dist/1000.,\"azimuth (deg)\",az,\"backazimuth (deg)\",baz)\n",
    "# find the angular distance between source and receiver\n",
    "deg = locations2degrees(lat0,lon0,slat,slon)\n",
    "print(\"angular distance (in deg)\",deg)"
   ]
  },
  {
   "cell_type": "markdown",
   "metadata": {
    "id": "fK1W1iY3gSac"
   },
   "source": [
    "### 4. Given a global Earth reference model (iasp91), predict the arrival time of global phases."
   ]
  },
  {
   "cell_type": "code",
   "execution_count": null,
   "metadata": {
    "colab": {
     "base_uri": "https://localhost:8080/"
    },
    "collapsed": true,
    "executionInfo": {
     "elapsed": 512,
     "status": "ok",
     "timestamp": 1676163107973,
     "user": {
      "displayName": "Marine Denolle",
      "userId": "06487926295753276573"
     },
     "user_tz": 480
    },
    "id": "vMw4-06bgGdD",
    "jupyter": {
     "outputs_hidden": true
    },
    "outputId": "4b542ea6-85d0-484f-86e6-7f9fd7fb50a7"
   },
   "outputs": [
    {
     "name": "stdout",
     "output_type": "stream",
     "text": [
      "35 arrivals\n",
      "\tP phase arrival at 791.711 seconds\n",
      "\tPcP phase arrival at 792.200 seconds\n",
      "\tpP phase arrival at 797.717 seconds\n",
      "\tsP phase arrival at 800.002 seconds\n",
      "\tPP phase arrival at 1013.998 seconds\n",
      "\tPKiKP phase arrival at 1079.234 seconds\n",
      "\tpPKiKP phase arrival at 1085.397 seconds\n",
      "\tsPKiKP phase arrival at 1087.648 seconds\n",
      "\tSKiKP phase arrival at 1292.887 seconds\n",
      "\tSKS phase arrival at 1424.248 seconds\n",
      "\tpSKS phase arrival at 1432.471 seconds\n",
      "\tsSKS phase arrival at 1434.776 seconds\n",
      "\tSKKS phase arrival at 1441.819 seconds\n",
      "\tS phase arrival at 1456.634 seconds\n",
      "\tScS phase arrival at 1458.223 seconds\n",
      "\tpS phase arrival at 1464.531 seconds\n",
      "\tsS phase arrival at 1466.930 seconds\n",
      "\tSP phase arrival at 1528.859 seconds\n",
      "\tSP phase arrival at 1530.234 seconds\n",
      "\tSP phase arrival at 1530.236 seconds\n",
      "\tPS phase arrival at 1531.366 seconds\n",
      "\tPS phase arrival at 1532.770 seconds\n",
      "\tPS phase arrival at 1532.771 seconds\n",
      "\tPKIKKIKP phase arrival at 1819.045 seconds\n",
      "\tPKKP phase arrival at 1821.026 seconds\n",
      "\tSS phase arrival at 1831.671 seconds\n",
      "\tSKIKKIKP phase arrival at 2032.625 seconds\n",
      "\tPKIKKIKS phase arrival at 2034.877 seconds\n",
      "\tSKKP phase arrival at 2039.445 seconds\n",
      "\tPKKS phase arrival at 2041.702 seconds\n",
      "\tSKIKKIKS phase arrival at 2248.271 seconds\n",
      "\tSKKS phase arrival at 2258.853 seconds\n",
      "\tPKIKPPKIKP phase arrival at 2312.834 seconds\n",
      "\tSKIKSSKIKS phase arrival at 3175.557 seconds\n",
      "\tSKSSKS phase arrival at 3177.013 seconds\n"
     ]
    }
   ],
   "source": [
    "from obspy.taup import TauPyModel\n",
    "model = TauPyModel(model=\"iasp91\")\n",
    "arrivals = model.get_travel_times(source_depth_in_km=depth0,\n",
    "                                  distance_in_degree=deg)\n",
    "print(arrivals)"
   ]
  },
  {
   "cell_type": "markdown",
   "metadata": {
    "id": "j9xvrR_y-OVi"
   },
   "source": [
    "We can get the specific travel times, ray parameters, and incidence angles. The P wave is the first element of the array ``arrivals``, S wave seems to be the 14th element."
   ]
  },
  {
   "cell_type": "code",
   "execution_count": null,
   "metadata": {
    "colab": {
     "base_uri": "https://localhost:8080/"
    },
    "collapsed": true,
    "executionInfo": {
     "elapsed": 4,
     "status": "ok",
     "timestamp": 1676163110609,
     "user": {
      "displayName": "Marine Denolle",
      "userId": "06487926295753276573"
     },
     "user_tz": 480
    },
    "id": "EriKnh5y-SbE",
    "jupyter": {
     "outputs_hidden": true
    },
    "outputId": "a8250a6a-64aa-4351-f1ec-c3c007421221"
   },
   "outputs": [
    {
     "name": "stdout",
     "output_type": "stream",
     "text": [
      "P wave , 263.58647639547075 791.7106541988658 13.884331499543734\n",
      "S wave , 502.9513723659145 1456.6343334695043 15.381891014053755\n"
     ]
    }
   ],
   "source": [
    "P=arrivals[0]\n",
    "print(\"P wave ,\",P.ray_param,P.time,P.incident_angle)\n",
    "S=arrivals[13]\n",
    "print(\"S wave ,\",S.ray_param,S.time,S.incident_angle)"
   ]
  },
  {
   "cell_type": "markdown",
   "metadata": {
    "id": "njc3NJW-giqw"
   },
   "source": [
    "### 5. Download seismic waveforms using the obspy function ``get_waveforms``, with the instrumental response, from IU.DWPF (a very good station in Florida) channel BHZ, location code ``00``. Download data from the origina time"
   ]
  },
  {
   "cell_type": "code",
   "execution_count": null,
   "metadata": {
    "colab": {
     "base_uri": "https://localhost:8080/",
     "height": 491
    },
    "collapsed": true,
    "executionInfo": {
     "elapsed": 3139,
     "status": "ok",
     "timestamp": 1676163115405,
     "user": {
      "displayName": "Marine Denolle",
      "userId": "06487926295753276573"
     },
     "user_tz": 480
    },
    "id": "DSoDuAoZbcGQ",
    "jupyter": {
     "outputs_hidden": true
    },
    "outputId": "dd2839b5-ad29-4f15-a962-4985ce027b87"
   },
   "outputs": [
    {
     "data": {
      "image/png": "[encoded data removed]",
      "text/plain": [
       "<Figure size 800x250 with 1 Axes>"
      ]
     },
     "metadata": {},
     "output_type": "display_data"
    },
    {
     "data": {
      "image/png": "[encoded data removed]",
      "text/plain": [
       "<Figure size 800x250 with 1 Axes>"
      ]
     },
     "execution_count": 65,
     "metadata": {},
     "output_type": "execute_result"
    }
   ],
   "source": [
    "# download waveform\n",
    "tr=client.get_waveforms(network=\"IU\",station=\"DWPF\",channel=\"BHZ\",location=\"00\",starttime=t0,endtime=t0+7200,attach_response=True);\n",
    "tr.remove_response(output=\"DISP\")\n",
    "tr.plot() \n"
   ]
  },
  {
   "cell_type": "markdown",
   "metadata": {
    "id": "bznVoAY3VZPb"
   },
   "source": [
    "Wow the data is not super clear. That is actually quite typical to strike slip events. Clear phase are better found using thrust earthquakes. \n",
    "\n",
    "Let's look at a different earthquake and repeat the steps above.\n",
    "We will focus on the M8.3 2013 Sea of Okhotsk earthquake. It occured on May 24, 2013 at 05:44:49 UTC. Based on above, download waveforms at the same station but for the other earthquake"
   ]
  },
  {
   "cell_type": "markdown",
   "metadata": {
    "id": "yjj3hyscF5No"
   },
   "source": [
    "### a) Collect metadata from IRIS about the earthquake (2 points)"
   ]
  },
  {
   "cell_type": "code",
   "execution_count": null,
   "metadata": {
    "colab": {
     "base_uri": "https://localhost:8080/"
    },
    "executionInfo": {
     "elapsed": 283,
     "status": "ok",
     "timestamp": 1676163118943,
     "user": {
      "displayName": "Marine Denolle",
      "userId": "06487926295753276573"
     },
     "user_tz": 480
    },
    "id": "9i9KqP-kYDT7",
    "outputId": "70ff8f64-0be2-494f-dc00-c3f60cd0bd5f"
   },
   "outputs": [
    {
     "name": "stdout",
     "output_type": "stream",
     "text": [
      "Magnitude of the earthquale: 8.3\n",
      "origin time of the earthquake: 2013-05-24T05:44:49.880000Z\n",
      "Hypocenter of the earthquake: 54.815 153.3912 607.0\n"
     ]
    }
   ],
   "source": [
    "#solution\n"
   ]
  },
  {
   "cell_type": "markdown",
   "metadata": {
    "id": "pT72P0ixGAIW"
   },
   "source": [
    "### b) Collect metadata from IRIS about the station (1 point)\n",
    "We will use the same station IU.DWPF.00.BHZ."
   ]
  },
  {
   "cell_type": "code",
   "execution_count": null,
   "metadata": {
    "id": "g9JpW08mBkOZ"
   },
   "outputs": [],
   "source": [
    "# get station information"
   ]
  },
  {
   "cell_type": "markdown",
   "metadata": {
    "id": "H9gSYxJ8GDVx"
   },
   "source": [
    "### c) Download seismic waveforms (1 point)\n",
    "\n",
    "1.   List item\n",
    "2.   List item\n",
    "\n"
   ]
  },
  {
   "cell_type": "code",
   "execution_count": null,
   "metadata": {
    "colab": {
     "base_uri": "https://localhost:8080/",
     "height": 491
    },
    "collapsed": true,
    "executionInfo": {
     "elapsed": 2136,
     "status": "ok",
     "timestamp": 1676163126367,
     "user": {
      "displayName": "Marine Denolle",
      "userId": "06487926295753276573"
     },
     "user_tz": 480
    },
    "id": "f0vdz-CQBujZ",
    "jupyter": {
     "outputs_hidden": true
    },
    "outputId": "3f528817-5113-4c3f-b859-ab442bc6a2c6"
   },
   "outputs": [
    {
     "data": {
      "image/png": "[encoded data removed]",
      "text/plain": [
       "<Figure size 800x250 with 1 Axes>"
      ]
     },
     "metadata": {},
     "output_type": "display_data"
    },
    {
     "data": {
      "image/png": "[encoded data removed]",
      "text/plain": [
       "<Figure size 800x250 with 1 Axes>"
      ]
     },
     "execution_count": 68,
     "metadata": {},
     "output_type": "execute_result"
    }
   ],
   "source": [
    "# download waveforms"
   ]
  },
  {
   "cell_type": "markdown",
   "metadata": {
    "id": "oelPUO5-YZQw"
   },
   "source": [
    "### Measure travel time of P and S waves\n",
    "\n",
    "Find the index and time at which the main global phases appear in the waveforms. \n",
    "Hints:\n",
    "\n",
    "* The sampling rate of the data (found in ``tr[0].stats.sampling_rate``)\n",
    "* Plot the waveforms using matplotlib. add grid and play with `xlim` to zoom in.\n",
    "\n",
    "Write the solutions in the appropriate cell"
   ]
  },
  {
   "cell_type": "code",
   "execution_count": null,
   "metadata": {
    "colab": {
     "base_uri": "https://localhost:8080/",
     "height": 282
    },
    "collapsed": true,
    "executionInfo": {
     "elapsed": 511,
     "status": "ok",
     "timestamp": 1676163129758,
     "user": {
      "displayName": "Marine Denolle",
      "userId": "06487926295753276573"
     },
     "user_tz": 480
    },
    "id": "ae2xK1TiYY6F",
    "jupyter": {
     "outputs_hidden": true
    },
    "outputId": "2c1714c0-0ffa-4896-c750-4341f0bb5717"
   },
   "outputs": [
    {
     "data": {
      "text/plain": [
       "(13000.0, 16000.0)"
      ]
     },
     "execution_count": 69,
     "metadata": {},
     "output_type": "execute_result"
    },
    {
     "data": {
      "image/png": "[encoded data removed]",
      "text/plain": [
       "<Figure size 432x288 with 1 Axes>"
      ]
     },
     "metadata": {},
     "output_type": "display_data"
    }
   ],
   "source": [
    "# you get the P by zooming in"
   ]
  },
  {
   "cell_type": "code",
   "execution_count": null,
   "metadata": {
    "colab": {
     "base_uri": "https://localhost:8080/",
     "height": 282
    },
    "collapsed": true,
    "executionInfo": {
     "elapsed": 358,
     "status": "ok",
     "timestamp": 1676163137227,
     "user": {
      "displayName": "Marine Denolle",
      "userId": "06487926295753276573"
     },
     "user_tz": 480
    },
    "id": "2GTSpV1xCqnN",
    "jupyter": {
     "outputs_hidden": true
    },
    "outputId": "bcbf2fbb-f82a-4f85-ca16-3a8736ad7f2c"
   },
   "outputs": [
    {
     "data": {
      "text/plain": [
       "(20000.0, 30000.0)"
      ]
     },
     "execution_count": 70,
     "metadata": {},
     "output_type": "execute_result"
    },
    {
     "data": {
      "image/png": "[encoded data removed]",
      "text/plain": [
       "<Figure size 432x288 with 1 Axes>"
      ]
     },
     "metadata": {},
     "output_type": "display_data"
    }
   ],
   "source": [
    "# you get the S with another zoom in"
   ]
  },
  {
   "cell_type": "markdown",
   "metadata": {
    "id": "Jla6z27BdJAD"
   },
   "source": [
    "## c) direct P wave (2 points)\n",
    "Estimate the index and the time of arrival of the P wave from origin time."
   ]
  },
  {
   "cell_type": "code",
   "execution_count": null,
   "metadata": {
    "id": "mIplVGJIlsd5"
   },
   "outputs": [],
   "source": [
    "# solution\n",
    "iP = # fill an integer about \n",
    "tP = # fill a float from what you found\n"
   ]
  },
  {
   "cell_type": "markdown",
   "metadata": {
    "id": "h3_13aB5l1al"
   },
   "source": [
    "### d) direct S wave (2 points) \n",
    "Hint, this one is harder to find. You may guide yourself with plots of global phases that are annotated with seismic phase type (e.g., [IRIS resource](!https://ds.iris.edu/ds/products/globalstacks/))."
   ]
  },
  {
   "cell_type": "code",
   "execution_count": null,
   "metadata": {
    "id": "LXKw_adQC-kU"
   },
   "outputs": [],
   "source": [
    "# solution\n",
    "iP = # fill an integer \n",
    "tP = # fill a float from what you found"
   ]
  },
  {
   "cell_type": "markdown",
   "metadata": {
    "id": "9QETCyJrDwrS"
   },
   "source": [
    "### e) Can you compare with the theoretical estimate. (2 points)\n",
    "Use the TauP model from Obspy."
   ]
  },
  {
   "cell_type": "code",
   "execution_count": null,
   "metadata": {
    "colab": {
     "background_save": true
    },
    "collapsed": true,
    "id": "zjgWCdrEEAC_",
    "jupyter": {
     "outputs_hidden": true
    }
   },
   "outputs": [],
   "source": [
    "# get travel time"
   ]
  },
  {
   "cell_type": "markdown",
   "metadata": {
    "id": "Mv2C_JDmHBy2"
   },
   "source": [
    "## 3. 2D tomography model (10 points)\n",
    "\n",
    "Consider a 2-D tomography. model consisting of a 20 by 20 grid of square cells, for a total of 400 model points, which are envenly sampled by 20 horizontal rays, 20 vertical rays, 39 diagonal rays at +45$^\\circ$, and 39 diagonal rays at -45$^\\circ$. The figure below shows details of the model and the ray numbering scheme. To a first-order approximation, the ray paths are assumed straight before the background velocity model is homogeneous and the 2-D velocity perturbtion are small. The cell sizes and seismic velocities are such that the travel times are 1 s across each cell, or $\\sqrt{2}$ s diagonally. \n",
    "<img src=\"shearer_img.jpeg\" alt=\"shearer\" width=\"600\"/>\n",
    "\n",
    "<!-- ![Image](shearer_img.jpeg) -->\n",
    "\n",
    "\n",
    "\n",
    "Given this configuration, we can write the travel-time perturbation inversion problem:\n",
    "\n",
    "$ \\mathbf{d} = \\mathbf{G} \\mathbf{m}$,\n",
    "\n",
    "$\\mathbf{d}$ is the travel-time data, a 1-D array, given by the rays defined in this problem.  $\\mathbf{m}$ is the slowness perturbation model, it is a 1-D array that is reshaped  from the 2D grid.  $\\mathbf{G}$ is the matrix that calculate the total ray path lengths specific for each ray given. "
   ]
  },
  {
   "cell_type": "markdown",
   "metadata": {
    "id": "PHw8qJfFRAJy"
   },
   "source": [
    "### a) How many travel-time data points are there? (1 point)\n",
    "Write N = integer."
   ]
  },
  {
   "cell_type": "code",
   "execution_count": null,
   "metadata": {
    "id": "WwJkIly3REw9"
   },
   "outputs": [],
   "source": [
    "# answer below\n",
    "N = "
   ]
  },
  {
   "cell_type": "markdown",
   "metadata": {
    "id": "HMYH_OC9RKW1"
   },
   "source": [
    "### b) How many model parameters do we need to fit? (1 point)\n",
    "write M = integer "
   ]
  },
  {
   "cell_type": "code",
   "execution_count": null,
   "metadata": {
    "id": "J4HbqngMRoKO"
   },
   "outputs": [],
   "source": [
    "# answer below\n",
    "M = "
   ]
  },
  {
   "cell_type": "markdown",
   "metadata": {
    "id": "DmHJvNWqJAyg"
   },
   "source": [
    "### c) Is the problem overdetermined or answer determined inverse problem? (1 point)\n",
    "Type the answer in a lowercase string."
   ]
  },
  {
   "cell_type": "code",
   "execution_count": null,
   "metadata": {
    "id": "O81_r9jER1aL"
   },
   "outputs": [],
   "source": [
    "# answer below"
   ]
  },
  {
   "cell_type": "markdown",
   "metadata": {
    "id": "Udw3x7UQP4hb"
   },
   "source": [
    "#### d) Read the $\\mathbf{G}$ matrix. (1 point)\n",
    "Remember the in-class exercise. Start by writing the equations for each ray:\n",
    "\n",
    "$d_i = \\sum_k l_k m_k$, \n",
    "\n",
    "where $k$ is the index of the grid block that the ray travel through, and $l_k$ is the length of the ray within that block. $l_k$ is mostly $1$, sometimes $\\sqrt{2}$.\n",
    "\n",
    "\n",
    "\n",
    "* Upload the file called tomo_gmat.csv from Canvas. \n",
    "\n",
    "\n",
    "\n",
    "\n",
    "\n",
    "* Use ``pandas`` to read the CSV file. The file has 3 columns: 1 - indexes of the rows of G that have nonzero values, 2 - indexes of the columns of G that have non zeros values, 3 - the non zero values.\n",
    "\n",
    "* Directly convert the pandas dataframe to a numpy array. examples are ``df.to_numpy()``.\n",
    "\n",
    "* Declare G as a matrix filled with zeros and of dimensions NxM.\n",
    "\n",
    "\n",
    "* Fill G of the rows and columns with non zero values.\n"
   ]
  },
  {
   "cell_type": "code",
   "execution_count": null,
   "metadata": {
    "colab": {
     "base_uri": "https://localhost:8080/",
     "height": 129
    },
    "collapsed": true,
    "executionInfo": {
     "elapsed": 7854,
     "status": "ok",
     "timestamp": 1676294449691,
     "user": {
      "displayName": "Marine Denolle",
      "userId": "06487926295753276573"
     },
     "user_tz": 480
    },
    "id": "S_ZRXlvRu37F",
    "jupyter": {
     "outputs_hidden": true
    },
    "outputId": "b90f1ffb-0756-49ca-ca0f-69cbb9c2aae7"
   },
   "outputs": [
    {
     "data": {
      "text/html": [
       "\n",
       "     <input type=\"file\" id=\"files-9c4819f2-4a1d-4418-a28b-23b34a1ed7eb\" name=\"files[]\" multiple disabled\n",
       "        style=\"border:none\" />\n",
       "     <output id=\"result-9c4819f2-4a1d-4418-a28b-23b34a1ed7eb\">\n",
       "      Upload widget is only available when the cell has been executed in the\n",
       "      current browser session. Please rerun this cell to enable.\n",
       "      </output>\n",
       "      <script>// Copyright 2017 Google LLC\n",
       "//\n",
       "// Licensed under the Apache License, Version 2.0 (the \"License\");\n",
       "// you may not use this file except in compliance with the License.\n",
       "// You may obtain a copy of the License at\n",
       "//\n",
       "//      http://www.apache.org/licenses/LICENSE-2.0\n",
       "//\n",
       "// Unless required by applicable law or agreed to in writing, software\n",
       "// distributed under the License is distributed on an \"AS IS\" BASIS,\n",
       "// WITHOUT WARRANTIES OR CONDITIONS OF ANY KIND, either express or implied.\n",
       "// See the License for the specific language governing permissions and\n",
       "// limitations under the License.\n",
       "\n",
       "/**\n",
       " * @fileoverview Helpers for google.colab Python module.\n",
       " */\n",
       "(function(scope) {\n",
       "function span(text, styleAttributes = {}) {\n",
       "  const element = document.createElement('span');\n",
       "  element.textContent = text;\n",
       "  for (const key of Object.keys(styleAttributes)) {\n",
       "    element.style[key] = styleAttributes[key];\n",
       "  }\n",
       "  return element;\n",
       "}\n",
       "\n",
       "// Max number of bytes which will be uploaded at a time.\n",
       "const MAX_PAYLOAD_SIZE = 100 * 1024;\n",
       "\n",
       "function _uploadFiles(inputId, outputId) {\n",
       "  const steps = uploadFilesStep(inputId, outputId);\n",
       "  const outputElement = document.getElementById(outputId);\n",
       "  // Cache steps on the outputElement to make it available for the next call\n",
       "  // to uploadFilesContinue from Python.\n",
       "  outputElement.steps = steps;\n",
       "\n",
       "  return _uploadFilesContinue(outputId);\n",
       "}\n",
       "\n",
       "// This is roughly an async generator (not supported in the browser yet),\n",
       "// where there are multiple asynchronous steps and the Python side is going\n",
       "// to poll for completion of each step.\n",
       "// This uses a Promise to block the python side on completion of each step,\n",
       "// then passes the result of the previous step as the input to the next step.\n",
       "function _uploadFilesContinue(outputId) {\n",
       "  const outputElement = document.getElementById(outputId);\n",
       "  const steps = outputElement.steps;\n",
       "\n",
       "  const next = steps.next(outputElement.lastPromiseValue);\n",
       "  return Promise.resolve(next.value.promise).then((value) => {\n",
       "    // Cache the last promise value to make it available to the next\n",
       "    // step of the generator.\n",
       "    outputElement.lastPromiseValue = value;\n",
       "    return next.value.response;\n",
       "  });\n",
       "}\n",
       "\n",
       "/**\n",
       " * Generator function which is called between each async step of the upload\n",
       " * process.\n",
       " * @param {string} inputId Element ID of the input file picker element.\n",
       " * @param {string} outputId Element ID of the output display.\n",
       " * @return {!Iterable<!Object>} Iterable of next steps.\n",
       " */\n",
       "function* uploadFilesStep(inputId, outputId) {\n",
       "  const inputElement = document.getElementById(inputId);\n",
       "  inputElement.disabled = false;\n",
       "\n",
       "  const outputElement = document.getElementById(outputId);\n",
       "  outputElement.innerHTML = '';\n",
       "\n",
       "  const pickedPromise = new Promise((resolve) => {\n",
       "    inputElement.addEventListener('change', (e) => {\n",
       "      resolve(e.target.files);\n",
       "    });\n",
       "  });\n",
       "\n",
       "  const cancel = document.createElement('button');\n",
       "  inputElement.parentElement.appendChild(cancel);\n",
       "  cancel.textContent = 'Cancel upload';\n",
       "  const cancelPromise = new Promise((resolve) => {\n",
       "    cancel.onclick = () => {\n",
       "      resolve(null);\n",
       "    };\n",
       "  });\n",
       "\n",
       "  // Wait for the user to pick the files.\n",
       "  const files = yield {\n",
       "    promise: Promise.race([pickedPromise, cancelPromise]),\n",
       "    response: {\n",
       "      action: 'starting',\n",
       "    }\n",
       "  };\n",
       "\n",
       "  cancel.remove();\n",
       "\n",
       "  // Disable the input element since further picks are not allowed.\n",
       "  inputElement.disabled = true;\n",
       "\n",
       "  if (!files) {\n",
       "    return {\n",
       "      response: {\n",
       "        action: 'complete',\n",
       "      }\n",
       "    };\n",
       "  }\n",
       "\n",
       "  for (const file of files) {\n",
       "    const li = document.createElement('li');\n",
       "    li.append(span(file.name, {fontWeight: 'bold'}));\n",
       "    li.append(span(\n",
       "        `(${file.type || 'n/a'}) - ${file.size} bytes, ` +\n",
       "        `last modified: ${\n",
       "            file.lastModifiedDate ? file.lastModifiedDate.toLocaleDateString() :\n",
       "                                    'n/a'} - `));\n",
       "    const percent = span('0% done');\n",
       "    li.appendChild(percent);\n",
       "\n",
       "    outputElement.appendChild(li);\n",
       "\n",
       "    const fileDataPromise = new Promise((resolve) => {\n",
       "      const reader = new FileReader();\n",
       "      reader.onload = (e) => {\n",
       "        resolve(e.target.result);\n",
       "      };\n",
       "      reader.readAsArrayBuffer(file);\n",
       "    });\n",
       "    // Wait for the data to be ready.\n",
       "    let fileData = yield {\n",
       "      promise: fileDataPromise,\n",
       "      response: {\n",
       "        action: 'continue',\n",
       "      }\n",
       "    };\n",
       "\n",
       "    // Use a chunked sending to avoid message size limits. See b/62115660.\n",
       "    let position = 0;\n",
       "    do {\n",
       "      const length = Math.min(fileData.byteLength - position, MAX_PAYLOAD_SIZE);\n",
       "      const chunk = new Uint8Array(fileData, position, length);\n",
       "      position += length;\n",
       "\n",
       "      const base64 = btoa(String.fromCharCode.apply(null, chunk));\n",
       "      yield {\n",
       "        response: {\n",
       "          action: 'append',\n",
       "          file: file.name,\n",
       "          data: base64,\n",
       "        },\n",
       "      };\n",
       "\n",
       "      let percentDone = fileData.byteLength === 0 ?\n",
       "          100 :\n",
       "          Math.round((position / fileData.byteLength) * 100);\n",
       "      percent.textContent = `${percentDone}% done`;\n",
       "\n",
       "    } while (position < fileData.byteLength);\n",
       "  }\n",
       "\n",
       "  // All done.\n",
       "  yield {\n",
       "    response: {\n",
       "      action: 'complete',\n",
       "    }\n",
       "  };\n",
       "}\n",
       "\n",
       "scope.google = scope.google || {};\n",
       "scope.google.colab = scope.google.colab || {};\n",
       "scope.google.colab._files = {\n",
       "  _uploadFiles,\n",
       "  _uploadFilesContinue,\n",
       "};\n",
       "})(self);\n",
       "</script> "
      ],
      "text/plain": [
       "<IPython.core.display.HTML object>"
      ]
     },
     "metadata": {},
     "output_type": "display_data"
    },
    {
     "name": "stdout",
     "output_type": "stream",
     "text": [
      "Saving tomo_gmat.csv to tomo_gmat.csv\n"
     ]
    },
    {
     "data": {
      "text/plain": [
       "{'tomo_gmat.csv': b'1,1,1.000\\n1,2,1.000\\n1,3,1.000\\n1,4,1.000\\n1,5,1.000\\n1,6,1.000\\n1,7,1.000\\n1,8,1.000\\n1,9,1.000\\n1,10,1.000\\n1,11,1.000\\n1,12,1.000\\n1,13,1.000\\n1,14,1.000\\n1,15,1.000\\n1,16,1.000\\n1,17,1.000\\n1,18,1.000\\n1,19,1.000\\n1,20,1.000\\n2,21,1.000\\n2,22,1.000\\n2,23,1.000\\n2,24,1.000\\n2,25,1.000\\n2,26,1.000\\n2,27,1.000\\n2,28,1.000\\n2,29,1.000\\n2,30,1.000\\n2,31,1.000\\n2,32,1.000\\n2,33,1.000\\n2,34,1.000\\n2,35,1.000\\n2,36,1.000\\n2,37,1.000\\n2,38,1.000\\n2,39,1.000\\n2,40,1.000\\n3,41,1.000\\n3,42,1.000\\n3,43,1.000\\n3,44,1.000\\n3,45,1.000\\n3,46,1.000\\n3,47,1.000\\n3,48,1.000\\n3,49,1.000\\n3,50,1.000\\n3,51,1.000\\n3,52,1.000\\n3,53,1.000\\n3,54,1.000\\n3,55,1.000\\n3,56,1.000\\n3,57,1.000\\n3,58,1.000\\n3,59,1.000\\n3,60,1.000\\n4,61,1.000\\n4,62,1.000\\n4,63,1.000\\n4,64,1.000\\n4,65,1.000\\n4,66,1.000\\n4,67,1.000\\n4,68,1.000\\n4,69,1.000\\n4,70,1.000\\n4,71,1.000\\n4,72,1.000\\n4,73,1.000\\n4,74,1.000\\n4,75,1.000\\n4,76,1.000\\n4,77,1.000\\n4,78,1.000\\n4,79,1.000\\n4,80,1.000\\n5,81,1.000\\n5,82,1.000\\n5,83,1.000\\n5,84,1.000\\n5,85,1.000\\n5,86,1.000\\n5,87,1.000\\n5,88,1.000\\n5,89,1.000\\n5,90,1.000\\n5,91,1.000\\n5,92,1.000\\n5,93,1.000\\n5,94,1.000\\n5,95,1.000\\n5,96,1.000\\n5,97,1.000\\n5,98,1.000\\n5,99,1.000\\n5,100,1.000\\n6,101,1.000\\n6,102,1.000\\n6,103,1.000\\n6,104,1.000\\n6,105,1.000\\n6,106,1.000\\n6,107,1.000\\n6,108,1.000\\n6,109,1.000\\n6,110,1.000\\n6,111,1.000\\n6,112,1.000\\n6,113,1.000\\n6,114,1.000\\n6,115,1.000\\n6,116,1.000\\n6,117,1.000\\n6,118,1.000\\n6,119,1.000\\n6,120,1.000\\n7,121,1.000\\n7,122,1.000\\n7,123,1.000\\n7,124,1.000\\n7,125,1.000\\n7,126,1.000\\n7,127,1.000\\n7,128,1.000\\n7,129,1.000\\n7,130,1.000\\n7,131,1.000\\n7,132,1.000\\n7,133,1.000\\n7,134,1.000\\n7,135,1.000\\n7,136,1.000\\n7,137,1.000\\n7,138,1.000\\n7,139,1.000\\n7,140,1.000\\n8,141,1.000\\n8,142,1.000\\n8,143,1.000\\n8,144,1.000\\n8,145,1.000\\n8,146,1.000\\n8,147,1.000\\n8,148,1.000\\n8,149,1.000\\n8,150,1.000\\n8,151,1.000\\n8,152,1.000\\n8,153,1.000\\n8,154,1.000\\n8,155,1.000\\n8,156,1.000\\n8,157,1.000\\n8,158,1.000\\n8,159,1.000\\n8,160,1.000\\n9,161,1.000\\n9,162,1.000\\n9,163,1.000\\n9,164,1.000\\n9,165,1.000\\n9,166,1.000\\n9,167,1.000\\n9,168,1.000\\n9,169,1.000\\n9,170,1.000\\n9,171,1.000\\n9,172,1.000\\n9,173,1.000\\n9,174,1.000\\n9,175,1.000\\n9,176,1.000\\n9,177,1.000\\n9,178,1.000\\n9,179,1.000\\n9,180,1.000\\n10,181,1.000\\n10,182,1.000\\n10,183,1.000\\n10,184,1.000\\n10,185,1.000\\n10,186,1.000\\n10,187,1.000\\n10,188,1.000\\n10,189,1.000\\n10,190,1.000\\n10,191,1.000\\n10,192,1.000\\n10,193,1.000\\n10,194,1.000\\n10,195,1.000\\n10,196,1.000\\n10,197,1.000\\n10,198,1.000\\n10,199,1.000\\n10,200,1.000\\n11,201,1.000\\n11,202,1.000\\n11,203,1.000\\n11,204,1.000\\n11,205,1.000\\n11,206,1.000\\n11,207,1.000\\n11,208,1.000\\n11,209,1.000\\n11,210,1.000\\n11,211,1.000\\n11,212,1.000\\n11,213,1.000\\n11,214,1.000\\n11,215,1.000\\n11,216,1.000\\n11,217,1.000\\n11,218,1.000\\n11,219,1.000\\n11,220,1.000\\n12,221,1.000\\n12,222,1.000\\n12,223,1.000\\n12,224,1.000\\n12,225,1.000\\n12,226,1.000\\n12,227,1.000\\n12,228,1.000\\n12,229,1.000\\n12,230,1.000\\n12,231,1.000\\n12,232,1.000\\n12,233,1.000\\n12,234,1.000\\n12,235,1.000\\n12,236,1.000\\n12,237,1.000\\n12,238,1.000\\n12,239,1.000\\n12,240,1.000\\n13,241,1.000\\n13,242,1.000\\n13,243,1.000\\n13,244,1.000\\n13,245,1.000\\n13,246,1.000\\n13,247,1.000\\n13,248,1.000\\n13,249,1.000\\n13,250,1.000\\n13,251,1.000\\n13,252,1.000\\n13,253,1.000\\n13,254,1.000\\n13,255,1.000\\n13,256,1.000\\n13,257,1.000\\n13,258,1.000\\n13,259,1.000\\n13,260,1.000\\n14,261,1.000\\n14,262,1.000\\n14,263,1.000\\n14,264,1.000\\n14,265,1.000\\n14,266,1.000\\n14,267,1.000\\n14,268,1.000\\n14,269,1.000\\n14,270,1.000\\n14,271,1.000\\n14,272,1.000\\n14,273,1.000\\n14,274,1.000\\n14,275,1.000\\n14,276,1.000\\n14,277,1.000\\n14,278,1.000\\n14,279,1.000\\n14,280,1.000\\n15,281,1.000\\n15,282,1.000\\n15,283,1.000\\n15,284,1.000\\n15,285,1.000\\n15,286,1.000\\n15,287,1.000\\n15,288,1.000\\n15,289,1.000\\n15,290,1.000\\n15,291,1.000\\n15,292,1.000\\n15,293,1.000\\n15,294,1.000\\n15,295,1.000\\n15,296,1.000\\n15,297,1.000\\n15,298,1.000\\n15,299,1.000\\n15,300,1.000\\n16,301,1.000\\n16,302,1.000\\n16,303,1.000\\n16,304,1.000\\n16,305,1.000\\n16,306,1.000\\n16,307,1.000\\n16,308,1.000\\n16,309,1.000\\n16,310,1.000\\n16,311,1.000\\n16,312,1.000\\n16,313,1.000\\n16,314,1.000\\n16,315,1.000\\n16,316,1.000\\n16,317,1.000\\n16,318,1.000\\n16,319,1.000\\n16,320,1.000\\n17,321,1.000\\n17,322,1.000\\n17,323,1.000\\n17,324,1.000\\n17,325,1.000\\n17,326,1.000\\n17,327,1.000\\n17,328,1.000\\n17,329,1.000\\n17,330,1.000\\n17,331,1.000\\n17,332,1.000\\n17,333,1.000\\n17,334,1.000\\n17,335,1.000\\n17,336,1.000\\n17,337,1.000\\n17,338,1.000\\n17,339,1.000\\n17,340,1.000\\n18,341,1.000\\n18,342,1.000\\n18,343,1.000\\n18,344,1.000\\n18,345,1.000\\n18,346,1.000\\n18,347,1.000\\n18,348,1.000\\n18,349,1.000\\n18,350,1.000\\n18,351,1.000\\n18,352,1.000\\n18,353,1.000\\n18,354,1.000\\n18,355,1.000\\n18,356,1.000\\n18,357,1.000\\n18,358,1.000\\n18,359,1.000\\n18,360,1.000\\n19,361,1.000\\n19,362,1.000\\n19,363,1.000\\n19,364,1.000\\n19,365,1.000\\n19,366,1.000\\n19,367,1.000\\n19,368,1.000\\n19,369,1.000\\n19,370,1.000\\n19,371,1.000\\n19,372,1.000\\n19,373,1.000\\n19,374,1.000\\n19,375,1.000\\n19,376,1.000\\n19,377,1.000\\n19,378,1.000\\n19,379,1.000\\n19,380,1.000\\n20,381,1.000\\n20,382,1.000\\n20,383,1.000\\n20,384,1.000\\n20,385,1.000\\n20,386,1.000\\n20,387,1.000\\n20,388,1.000\\n20,389,1.000\\n20,390,1.000\\n20,391,1.000\\n20,392,1.000\\n20,393,1.000\\n20,394,1.000\\n20,395,1.000\\n20,396,1.000\\n20,397,1.000\\n20,398,1.000\\n20,399,1.000\\n20,400,1.000\\n21,1,1.000\\n21,21,1.000\\n21,41,1.000\\n21,61,1.000\\n21,81,1.000\\n21,101,1.000\\n21,121,1.000\\n21,141,1.000\\n21,161,1.000\\n21,181,1.000\\n21,201,1.000\\n21,221,1.000\\n21,241,1.000\\n21,261,1.000\\n21,281,1.000\\n21,301,1.000\\n21,321,1.000\\n21,341,1.000\\n21,361,1.000\\n21,381,1.000\\n22,2,1.000\\n22,22,1.000\\n22,42,1.000\\n22,62,1.000\\n22,82,1.000\\n22,102,1.000\\n22,122,1.000\\n22,142,1.000\\n22,162,1.000\\n22,182,1.000\\n22,202,1.000\\n22,222,1.000\\n22,242,1.000\\n22,262,1.000\\n22,282,1.000\\n22,302,1.000\\n22,322,1.000\\n22,342,1.000\\n22,362,1.000\\n22,382,1.000\\n23,3,1.000\\n23,23,1.000\\n23,43,1.000\\n23,63,1.000\\n23,83,1.000\\n23,103,1.000\\n23,123,1.000\\n23,143,1.000\\n23,163,1.000\\n23,183,1.000\\n23,203,1.000\\n23,223,1.000\\n23,243,1.000\\n23,263,1.000\\n23,283,1.000\\n23,303,1.000\\n23,323,1.000\\n23,343,1.000\\n23,363,1.000\\n23,383,1.000\\n24,4,1.000\\n24,24,1.000\\n24,44,1.000\\n24,64,1.000\\n24,84,1.000\\n24,104,1.000\\n24,124,1.000\\n24,144,1.000\\n24,164,1.000\\n24,184,1.000\\n24,204,1.000\\n24,224,1.000\\n24,244,1.000\\n24,264,1.000\\n24,284,1.000\\n24,304,1.000\\n24,324,1.000\\n24,344,1.000\\n24,364,1.000\\n24,384,1.000\\n25,5,1.000\\n25,25,1.000\\n25,45,1.000\\n25,65,1.000\\n25,85,1.000\\n25,105,1.000\\n25,125,1.000\\n25,145,1.000\\n25,165,1.000\\n25,185,1.000\\n25,205,1.000\\n25,225,1.000\\n25,245,1.000\\n25,265,1.000\\n25,285,1.000\\n25,305,1.000\\n25,325,1.000\\n25,345,1.000\\n25,365,1.000\\n25,385,1.000\\n26,6,1.000\\n26,26,1.000\\n26,46,1.000\\n26,66,1.000\\n26,86,1.000\\n26,106,1.000\\n26,126,1.000\\n26,146,1.000\\n26,166,1.000\\n26,186,1.000\\n26,206,1.000\\n26,226,1.000\\n26,246,1.000\\n26,266,1.000\\n26,286,1.000\\n26,306,1.000\\n26,326,1.000\\n26,346,1.000\\n26,366,1.000\\n26,386,1.000\\n27,7,1.000\\n27,27,1.000\\n27,47,1.000\\n27,67,1.000\\n27,87,1.000\\n27,107,1.000\\n27,127,1.000\\n27,147,1.000\\n27,167,1.000\\n27,187,1.000\\n27,207,1.000\\n27,227,1.000\\n27,247,1.000\\n27,267,1.000\\n27,287,1.000\\n27,307,1.000\\n27,327,1.000\\n27,347,1.000\\n27,367,1.000\\n27,387,1.000\\n28,8,1.000\\n28,28,1.000\\n28,48,1.000\\n28,68,1.000\\n28,88,1.000\\n28,108,1.000\\n28,128,1.000\\n28,148,1.000\\n28,168,1.000\\n28,188,1.000\\n28,208,1.000\\n28,228,1.000\\n28,248,1.000\\n28,268,1.000\\n28,288,1.000\\n28,308,1.000\\n28,328,1.000\\n28,348,1.000\\n28,368,1.000\\n28,388,1.000\\n29,9,1.000\\n29,29,1.000\\n29,49,1.000\\n29,69,1.000\\n29,89,1.000\\n29,109,1.000\\n29,129,1.000\\n29,149,1.000\\n29,169,1.000\\n29,189,1.000\\n29,209,1.000\\n29,229,1.000\\n29,249,1.000\\n29,269,1.000\\n29,289,1.000\\n29,309,1.000\\n29,329,1.000\\n29,349,1.000\\n29,369,1.000\\n29,389,1.000\\n30,10,1.000\\n30,30,1.000\\n30,50,1.000\\n30,70,1.000\\n30,90,1.000\\n30,110,1.000\\n30,130,1.000\\n30,150,1.000\\n30,170,1.000\\n30,190,1.000\\n30,210,1.000\\n30,230,1.000\\n30,250,1.000\\n30,270,1.000\\n30,290,1.000\\n30,310,1.000\\n30,330,1.000\\n30,350,1.000\\n30,370,1.000\\n30,390,1.000\\n31,11,1.000\\n31,31,1.000\\n31,51,1.000\\n31,71,1.000\\n31,91,1.000\\n31,111,1.000\\n31,131,1.000\\n31,151,1.000\\n31,171,1.000\\n31,191,1.000\\n31,211,1.000\\n31,231,1.000\\n31,251,1.000\\n31,271,1.000\\n31,291,1.000\\n31,311,1.000\\n31,331,1.000\\n31,351,1.000\\n31,371,1.000\\n31,391,1.000\\n32,12,1.000\\n32,32,1.000\\n32,52,1.000\\n32,72,1.000\\n32,92,1.000\\n32,112,1.000\\n32,132,1.000\\n32,152,1.000\\n32,172,1.000\\n32,192,1.000\\n32,212,1.000\\n32,232,1.000\\n32,252,1.000\\n32,272,1.000\\n32,292,1.000\\n32,312,1.000\\n32,332,1.000\\n32,352,1.000\\n32,372,1.000\\n32,392,1.000\\n33,13,1.000\\n33,33,1.000\\n33,53,1.000\\n33,73,1.000\\n33,93,1.000\\n33,113,1.000\\n33,133,1.000\\n33,153,1.000\\n33,173,1.000\\n33,193,1.000\\n33,213,1.000\\n33,233,1.000\\n33,253,1.000\\n33,273,1.000\\n33,293,1.000\\n33,313,1.000\\n33,333,1.000\\n33,353,1.000\\n33,373,1.000\\n33,393,1.000\\n34,14,1.000\\n34,34,1.000\\n34,54,1.000\\n34,74,1.000\\n34,94,1.000\\n34,114,1.000\\n34,134,1.000\\n34,154,1.000\\n34,174,1.000\\n34,194,1.000\\n34,214,1.000\\n34,234,1.000\\n34,254,1.000\\n34,274,1.000\\n34,294,1.000\\n34,314,1.000\\n34,334,1.000\\n34,354,1.000\\n34,374,1.000\\n34,394,1.000\\n35,15,1.000\\n35,35,1.000\\n35,55,1.000\\n35,75,1.000\\n35,95,1.000\\n35,115,1.000\\n35,135,1.000\\n35,155,1.000\\n35,175,1.000\\n35,195,1.000\\n35,215,1.000\\n35,235,1.000\\n35,255,1.000\\n35,275,1.000\\n35,295,1.000\\n35,315,1.000\\n35,335,1.000\\n35,355,1.000\\n35,375,1.000\\n35,395,1.000\\n36,16,1.000\\n36,36,1.000\\n36,56,1.000\\n36,76,1.000\\n36,96,1.000\\n36,116,1.000\\n36,136,1.000\\n36,156,1.000\\n36,176,1.000\\n36,196,1.000\\n36,216,1.000\\n36,236,1.000\\n36,256,1.000\\n36,276,1.000\\n36,296,1.000\\n36,316,1.000\\n36,336,1.000\\n36,356,1.000\\n36,376,1.000\\n36,396,1.000\\n37,17,1.000\\n37,37,1.000\\n37,57,1.000\\n37,77,1.000\\n37,97,1.000\\n37,117,1.000\\n37,137,1.000\\n37,157,1.000\\n37,177,1.000\\n37,197,1.000\\n37,217,1.000\\n37,237,1.000\\n37,257,1.000\\n37,277,1.000\\n37,297,1.000\\n37,317,1.000\\n37,337,1.000\\n37,357,1.000\\n37,377,1.000\\n37,397,1.000\\n38,18,1.000\\n38,38,1.000\\n38,58,1.000\\n38,78,1.000\\n38,98,1.000\\n38,118,1.000\\n38,138,1.000\\n38,158,1.000\\n38,178,1.000\\n38,198,1.000\\n38,218,1.000\\n38,238,1.000\\n38,258,1.000\\n38,278,1.000\\n38,298,1.000\\n38,318,1.000\\n38,338,1.000\\n38,358,1.000\\n38,378,1.000\\n38,398,1.000\\n39,19,1.000\\n39,39,1.000\\n39,59,1.000\\n39,79,1.000\\n39,99,1.000\\n39,119,1.000\\n39,139,1.000\\n39,159,1.000\\n39,179,1.000\\n39,199,1.000\\n39,219,1.000\\n39,239,1.000\\n39,259,1.000\\n39,279,1.000\\n39,299,1.000\\n39,319,1.000\\n39,339,1.000\\n39,359,1.000\\n39,379,1.000\\n39,399,1.000\\n40,20,1.000\\n40,40,1.000\\n40,60,1.000\\n40,80,1.000\\n40,100,1.000\\n40,120,1.000\\n40,140,1.000\\n40,160,1.000\\n40,180,1.000\\n40,200,1.000\\n40,220,1.000\\n40,240,1.000\\n40,260,1.000\\n40,280,1.000\\n40,300,1.000\\n40,320,1.000\\n40,340,1.000\\n40,360,1.000\\n40,380,1.000\\n40,400,1.000\\n41,1,1.414\\n42,2,1.414\\n42,21,1.414\\n43,3,1.414\\n43,22,1.414\\n43,41,1.414\\n44,4,1.414\\n44,23,1.414\\n44,42,1.414\\n44,61,1.414\\n45,5,1.414\\n45,24,1.414\\n45,43,1.414\\n45,62,1.414\\n45,81,1.414\\n46,6,1.414\\n46,25,1.414\\n46,44,1.414\\n46,63,1.414\\n46,82,1.414\\n46,101,1.414\\n47,7,1.414\\n47,26,1.414\\n47,45,1.414\\n47,64,1.414\\n47,83,1.414\\n47,102,1.414\\n47,121,1.414\\n48,8,1.414\\n48,27,1.414\\n48,46,1.414\\n48,65,1.414\\n48,84,1.414\\n48,103,1.414\\n48,122,1.414\\n48,141,1.414\\n49,9,1.414\\n49,28,1.414\\n49,47,1.414\\n49,66,1.414\\n49,85,1.414\\n49,104,1.414\\n49,123,1.414\\n49,142,1.414\\n49,161,1.414\\n50,10,1.414\\n50,29,1.414\\n50,48,1.414\\n50,67,1.414\\n50,86,1.414\\n50,105,1.414\\n50,124,1.414\\n50,143,1.414\\n50,162,1.414\\n50,181,1.414\\n51,11,1.414\\n51,30,1.414\\n51,49,1.414\\n51,68,1.414\\n51,87,1.414\\n51,106,1.414\\n51,125,1.414\\n51,144,1.414\\n51,163,1.414\\n51,182,1.414\\n51,201,1.414\\n52,12,1.414\\n52,31,1.414\\n52,50,1.414\\n52,69,1.414\\n52,88,1.414\\n52,107,1.414\\n52,126,1.414\\n52,145,1.414\\n52,164,1.414\\n52,183,1.414\\n52,202,1.414\\n52,221,1.414\\n53,13,1.414\\n53,32,1.414\\n53,51,1.414\\n53,70,1.414\\n53,89,1.414\\n53,108,1.414\\n53,127,1.414\\n53,146,1.414\\n53,165,1.414\\n53,184,1.414\\n53,203,1.414\\n53,222,1.414\\n53,241,1.414\\n54,14,1.414\\n54,33,1.414\\n54,52,1.414\\n54,71,1.414\\n54,90,1.414\\n54,109,1.414\\n54,128,1.414\\n54,147,1.414\\n54,166,1.414\\n54,185,1.414\\n54,204,1.414\\n54,223,1.414\\n54,242,1.414\\n54,261,1.414\\n55,15,1.414\\n55,34,1.414\\n55,53,1.414\\n55,72,1.414\\n55,91,1.414\\n55,110,1.414\\n55,129,1.414\\n55,148,1.414\\n55,167,1.414\\n55,186,1.414\\n55,205,1.414\\n55,224,1.414\\n55,243,1.414\\n55,262,1.414\\n55,281,1.414\\n56,16,1.414\\n56,35,1.414\\n56,54,1.414\\n56,73,1.414\\n56,92,1.414\\n56,111,1.414\\n56,130,1.414\\n56,149,1.414\\n56,168,1.414\\n56,187,1.414\\n56,206,1.414\\n56,225,1.414\\n56,244,1.414\\n56,263,1.414\\n56,282,1.414\\n56,301,1.414\\n57,17,1.414\\n57,36,1.414\\n57,55,1.414\\n57,74,1.414\\n57,93,1.414\\n57,112,1.414\\n57,131,1.414\\n57,150,1.414\\n57,169,1.414\\n57,188,1.414\\n57,207,1.414\\n57,226,1.414\\n57,245,1.414\\n57,264,1.414\\n57,283,1.414\\n57,302,1.414\\n57,321,1.414\\n58,18,1.414\\n58,37,1.414\\n58,56,1.414\\n58,75,1.414\\n58,94,1.414\\n58,113,1.414\\n58,132,1.414\\n58,151,1.414\\n58,170,1.414\\n58,189,1.414\\n58,208,1.414\\n58,227,1.414\\n58,246,1.414\\n58,265,1.414\\n58,284,1.414\\n58,303,1.414\\n58,322,1.414\\n58,341,1.414\\n59,19,1.414\\n59,38,1.414\\n59,57,1.414\\n59,76,1.414\\n59,95,1.414\\n59,114,1.414\\n59,133,1.414\\n59,152,1.414\\n59,171,1.414\\n59,190,1.414\\n59,209,1.414\\n59,228,1.414\\n59,247,1.414\\n59,266,1.414\\n59,285,1.414\\n59,304,1.414\\n59,323,1.414\\n59,342,1.414\\n59,361,1.414\\n60,20,1.414\\n60,39,1.414\\n60,58,1.414\\n60,77,1.414\\n60,96,1.414\\n60,115,1.414\\n60,134,1.414\\n60,153,1.414\\n60,172,1.414\\n60,191,1.414\\n60,210,1.414\\n60,229,1.414\\n60,248,1.414\\n60,267,1.414\\n60,286,1.414\\n60,305,1.414\\n60,324,1.414\\n60,343,1.414\\n60,362,1.414\\n60,381,1.414\\n61,40,1.414\\n61,59,1.414\\n61,78,1.414\\n61,97,1.414\\n61,116,1.414\\n61,135,1.414\\n61,154,1.414\\n61,173,1.414\\n61,192,1.414\\n61,211,1.414\\n61,230,1.414\\n61,249,1.414\\n61,268,1.414\\n61,287,1.414\\n61,306,1.414\\n61,325,1.414\\n61,344,1.414\\n61,363,1.414\\n61,382,1.414\\n62,60,1.414\\n62,79,1.414\\n62,98,1.414\\n62,117,1.414\\n62,136,1.414\\n62,155,1.414\\n62,174,1.414\\n62,193,1.414\\n62,212,1.414\\n62,231,1.414\\n62,250,1.414\\n62,269,1.414\\n62,288,1.414\\n62,307,1.414\\n62,326,1.414\\n62,345,1.414\\n62,364,1.414\\n62,383,1.414\\n63,80,1.414\\n63,99,1.414\\n63,118,1.414\\n63,137,1.414\\n63,156,1.414\\n63,175,1.414\\n63,194,1.414\\n63,213,1.414\\n63,232,1.414\\n63,251,1.414\\n63,270,1.414\\n63,289,1.414\\n63,308,1.414\\n63,327,1.414\\n63,346,1.414\\n63,365,1.414\\n63,384,1.414\\n64,100,1.414\\n64,119,1.414\\n64,138,1.414\\n64,157,1.414\\n64,176,1.414\\n64,195,1.414\\n64,214,1.414\\n64,233,1.414\\n64,252,1.414\\n64,271,1.414\\n64,290,1.414\\n64,309,1.414\\n64,328,1.414\\n64,347,1.414\\n64,366,1.414\\n64,385,1.414\\n65,120,1.414\\n65,139,1.414\\n65,158,1.414\\n65,177,1.414\\n65,196,1.414\\n65,215,1.414\\n65,234,1.414\\n65,253,1.414\\n65,272,1.414\\n65,291,1.414\\n65,310,1.414\\n65,329,1.414\\n65,348,1.414\\n65,367,1.414\\n65,386,1.414\\n66,140,1.414\\n66,159,1.414\\n66,178,1.414\\n66,197,1.414\\n66,216,1.414\\n66,235,1.414\\n66,254,1.414\\n66,273,1.414\\n66,292,1.414\\n66,311,1.414\\n66,330,1.414\\n66,349,1.414\\n66,368,1.414\\n66,387,1.414\\n67,160,1.414\\n67,179,1.414\\n67,198,1.414\\n67,217,1.414\\n67,236,1.414\\n67,255,1.414\\n67,274,1.414\\n67,293,1.414\\n67,312,1.414\\n67,331,1.414\\n67,350,1.414\\n67,369,1.414\\n67,388,1.414\\n68,180,1.414\\n68,199,1.414\\n68,218,1.414\\n68,237,1.414\\n68,256,1.414\\n68,275,1.414\\n68,294,1.414\\n68,313,1.414\\n68,332,1.414\\n68,351,1.414\\n68,370,1.414\\n68,389,1.414\\n69,200,1.414\\n69,219,1.414\\n69,238,1.414\\n69,257,1.414\\n69,276,1.414\\n69,295,1.414\\n69,314,1.414\\n69,333,1.414\\n69,352,1.414\\n69,371,1.414\\n69,390,1.414\\n70,220,1.414\\n70,239,1.414\\n70,258,1.414\\n70,277,1.414\\n70,296,1.414\\n70,315,1.414\\n70,334,1.414\\n70,353,1.414\\n70,372,1.414\\n70,391,1.414\\n71,240,1.414\\n71,259,1.414\\n71,278,1.414\\n71,297,1.414\\n71,316,1.414\\n71,335,1.414\\n71,354,1.414\\n71,373,1.414\\n71,392,1.414\\n72,260,1.414\\n72,279,1.414\\n72,298,1.414\\n72,317,1.414\\n72,336,1.414\\n72,355,1.414\\n72,374,1.414\\n72,393,1.414\\n73,280,1.414\\n73,299,1.414\\n73,318,1.414\\n73,337,1.414\\n73,356,1.414\\n73,375,1.414\\n73,394,1.414\\n74,300,1.414\\n74,319,1.414\\n74,338,1.414\\n74,357,1.414\\n74,376,1.414\\n74,395,1.414\\n75,320,1.414\\n75,339,1.414\\n75,358,1.414\\n75,377,1.414\\n75,396,1.414\\n76,340,1.414\\n76,359,1.414\\n76,378,1.414\\n76,397,1.414\\n77,360,1.414\\n77,379,1.414\\n77,398,1.414\\n78,380,1.414\\n78,399,1.414\\n79,400,1.414\\n80,381,1.414\\n81,361,1.414\\n81,382,1.414\\n82,341,1.414\\n82,362,1.414\\n82,383,1.414\\n83,321,1.414\\n83,342,1.414\\n83,363,1.414\\n83,384,1.414\\n84,301,1.414\\n84,322,1.414\\n84,343,1.414\\n84,364,1.414\\n84,385,1.414\\n85,281,1.414\\n85,302,1.414\\n85,323,1.414\\n85,344,1.414\\n85,365,1.414\\n85,386,1.414\\n86,261,1.414\\n86,282,1.414\\n86,303,1.414\\n86,324,1.414\\n86,345,1.414\\n86,366,1.414\\n86,387,1.414\\n87,241,1.414\\n87,262,1.414\\n87,283,1.414\\n87,304,1.414\\n87,325,1.414\\n87,346,1.414\\n87,367,1.414\\n87,388,1.414\\n88,221,1.414\\n88,242,1.414\\n88,263,1.414\\n88,284,1.414\\n88,305,1.414\\n88,326,1.414\\n88,347,1.414\\n88,368,1.414\\n88,389,1.414\\n89,201,1.414\\n89,222,1.414\\n89,243,1.414\\n89,264,1.414\\n89,285,1.414\\n89,306,1.414\\n89,327,1.414\\n89,348,1.414\\n89,369,1.414\\n89,390,1.414\\n90,181,1.414\\n90,202,1.414\\n90,223,1.414\\n90,244,1.414\\n90,265,1.414\\n90,286,1.414\\n90,307,1.414\\n90,328,1.414\\n90,349,1.414\\n90,370,1.414\\n90,391,1.414\\n91,161,1.414\\n91,182,1.414\\n91,203,1.414\\n91,224,1.414\\n91,245,1.414\\n91,266,1.414\\n91,287,1.414\\n91,308,1.414\\n91,329,1.414\\n91,350,1.414\\n91,371,1.414\\n91,392,1.414\\n92,141,1.414\\n92,162,1.414\\n92,183,1.414\\n92,204,1.414\\n92,225,1.414\\n92,246,1.414\\n92,267,1.414\\n92,288,1.414\\n92,309,1.414\\n92,330,1.414\\n92,351,1.414\\n92,372,1.414\\n92,393,1.414\\n93,121,1.414\\n93,142,1.414\\n93,163,1.414\\n93,184,1.414\\n93,205,1.414\\n93,226,1.414\\n93,247,1.414\\n93,268,1.414\\n93,289,1.414\\n93,310,1.414\\n93,331,1.414\\n93,352,1.414\\n93,373,1.414\\n93,394,1.414\\n94,101,1.414\\n94,122,1.414\\n94,143,1.414\\n94,164,1.414\\n94,185,1.414\\n94,206,1.414\\n94,227,1.414\\n94,248,1.414\\n94,269,1.414\\n94,290,1.414\\n94,311,1.414\\n94,332,1.414\\n94,353,1.414\\n94,374,1.414\\n94,395,1.414\\n95,81,1.414\\n95,102,1.414\\n95,123,1.414\\n95,144,1.414\\n95,165,1.414\\n95,186,1.414\\n95,207,1.414\\n95,228,1.414\\n95,249,1.414\\n95,270,1.414\\n95,291,1.414\\n95,312,1.414\\n95,333,1.414\\n95,354,1.414\\n95,375,1.414\\n95,396,1.414\\n96,61,1.414\\n96,82,1.414\\n96,103,1.414\\n96,124,1.414\\n96,145,1.414\\n96,166,1.414\\n96,187,1.414\\n96,208,1.414\\n96,229,1.414\\n96,250,1.414\\n96,271,1.414\\n96,292,1.414\\n96,313,1.414\\n96,334,1.414\\n96,355,1.414\\n96,376,1.414\\n96,397,1.414\\n97,41,1.414\\n97,62,1.414\\n97,83,1.414\\n97,104,1.414\\n97,125,1.414\\n97,146,1.414\\n97,167,1.414\\n97,188,1.414\\n97,209,1.414\\n97,230,1.414\\n97,251,1.414\\n97,272,1.414\\n97,293,1.414\\n97,314,1.414\\n97,335,1.414\\n97,356,1.414\\n97,377,1.414\\n97,398,1.414\\n98,21,1.414\\n98,42,1.414\\n98,63,1.414\\n98,84,1.414\\n98,105,1.414\\n98,126,1.414\\n98,147,1.414\\n98,168,1.414\\n98,189,1.414\\n98,210,1.414\\n98,231,1.414\\n98,252,1.414\\n98,273,1.414\\n98,294,1.414\\n98,315,1.414\\n98,336,1.414\\n98,357,1.414\\n98,378,1.414\\n98,399,1.414\\n99,1,1.414\\n99,22,1.414\\n99,43,1.414\\n99,64,1.414\\n99,85,1.414\\n99,106,1.414\\n99,127,1.414\\n99,148,1.414\\n99,169,1.414\\n99,190,1.414\\n99,211,1.414\\n99,232,1.414\\n99,253,1.414\\n99,274,1.414\\n99,295,1.414\\n99,316,1.414\\n99,337,1.414\\n99,358,1.414\\n99,379,1.414\\n99,400,1.414\\n100,2,1.414\\n100,23,1.414\\n100,44,1.414\\n100,65,1.414\\n100,86,1.414\\n100,107,1.414\\n100,128,1.414\\n100,149,1.414\\n100,170,1.414\\n100,191,1.414\\n100,212,1.414\\n100,233,1.414\\n100,254,1.414\\n100,275,1.414\\n100,296,1.414\\n100,317,1.414\\n100,338,1.414\\n100,359,1.414\\n100,380,1.414\\n101,3,1.414\\n101,24,1.414\\n101,45,1.414\\n101,66,1.414\\n101,87,1.414\\n101,108,1.414\\n101,129,1.414\\n101,150,1.414\\n101,171,1.414\\n101,192,1.414\\n101,213,1.414\\n101,234,1.414\\n101,255,1.414\\n101,276,1.414\\n101,297,1.414\\n101,318,1.414\\n101,339,1.414\\n101,360,1.414\\n102,4,1.414\\n102,25,1.414\\n102,46,1.414\\n102,67,1.414\\n102,88,1.414\\n102,109,1.414\\n102,130,1.414\\n102,151,1.414\\n102,172,1.414\\n102,193,1.414\\n102,214,1.414\\n102,235,1.414\\n102,256,1.414\\n102,277,1.414\\n102,298,1.414\\n102,319,1.414\\n102,340,1.414\\n103,5,1.414\\n103,26,1.414\\n103,47,1.414\\n103,68,1.414\\n103,89,1.414\\n103,110,1.414\\n103,131,1.414\\n103,152,1.414\\n103,173,1.414\\n103,194,1.414\\n103,215,1.414\\n103,236,1.414\\n103,257,1.414\\n103,278,1.414\\n103,299,1.414\\n103,320,1.414\\n104,6,1.414\\n104,27,1.414\\n104,48,1.414\\n104,69,1.414\\n104,90,1.414\\n104,111,1.414\\n104,132,1.414\\n104,153,1.414\\n104,174,1.414\\n104,195,1.414\\n104,216,1.414\\n104,237,1.414\\n104,258,1.414\\n104,279,1.414\\n104,300,1.414\\n105,7,1.414\\n105,28,1.414\\n105,49,1.414\\n105,70,1.414\\n105,91,1.414\\n105,112,1.414\\n105,133,1.414\\n105,154,1.414\\n105,175,1.414\\n105,196,1.414\\n105,217,1.414\\n105,238,1.414\\n105,259,1.414\\n105,280,1.414\\n106,8,1.414\\n106,29,1.414\\n106,50,1.414\\n106,71,1.414\\n106,92,1.414\\n106,113,1.414\\n106,134,1.414\\n106,155,1.414\\n106,176,1.414\\n106,197,1.414\\n106,218,1.414\\n106,239,1.414\\n106,260,1.414\\n107,9,1.414\\n107,30,1.414\\n107,51,1.414\\n107,72,1.414\\n107,93,1.414\\n107,114,1.414\\n107,135,1.414\\n107,156,1.414\\n107,177,1.414\\n107,198,1.414\\n107,219,1.414\\n107,240,1.414\\n108,10,1.414\\n108,31,1.414\\n108,52,1.414\\n108,73,1.414\\n108,94,1.414\\n108,115,1.414\\n108,136,1.414\\n108,157,1.414\\n108,178,1.414\\n108,199,1.414\\n108,220,1.414\\n109,11,1.414\\n109,32,1.414\\n109,53,1.414\\n109,74,1.414\\n109,95,1.414\\n109,116,1.414\\n109,137,1.414\\n109,158,1.414\\n109,179,1.414\\n109,200,1.414\\n110,12,1.414\\n110,33,1.414\\n110,54,1.414\\n110,75,1.414\\n110,96,1.414\\n110,117,1.414\\n110,138,1.414\\n110,159,1.414\\n110,180,1.414\\n111,13,1.414\\n111,34,1.414\\n111,55,1.414\\n111,76,1.414\\n111,97,1.414\\n111,118,1.414\\n111,139,1.414\\n111,160,1.414\\n112,14,1.414\\n112,35,1.414\\n112,56,1.414\\n112,77,1.414\\n112,98,1.414\\n112,119,1.414\\n112,140,1.414\\n113,15,1.414\\n113,36,1.414\\n113,57,1.414\\n113,78,1.414\\n113,99,1.414\\n113,120,1.414\\n114,16,1.414\\n114,37,1.414\\n114,58,1.414\\n114,79,1.414\\n114,100,1.414\\n115,17,1.414\\n115,38,1.414\\n115,59,1.414\\n115,80,1.414\\n116,18,1.414\\n116,39,1.414\\n116,60,1.414\\n117,19,1.414\\n117,40,1.414\\n118,20,1.414\\n'}"
      ]
     },
     "execution_count": 8,
     "metadata": {},
     "output_type": "execute_result"
    }
   ],
   "source": [
    "from google.colab import drive, files\n",
    "files.upload()"
   ]
  },
  {
   "cell_type": "markdown",
   "metadata": {
    "id": "4FfCpLNx-koM"
   },
   "source": [
    "read the dataframe and convert to numpa"
   ]
  },
  {
   "cell_type": "code",
   "execution_count": null,
   "metadata": {
    "id": "OVrdAQY51X7p"
   },
   "outputs": [],
   "source": [
    "# read the CSV file. It has as a first column, the row index, second column the column index, third column the non-zero value\n"
   ]
  },
  {
   "cell_type": "markdown",
   "metadata": {
    "id": "V7i70N_9-nyB"
   },
   "source": [
    "Fill in the G matrix"
   ]
  },
  {
   "cell_type": "code",
   "execution_count": null,
   "metadata": {
    "id": "cqJlmL03-oZS"
   },
   "outputs": [],
   "source": [
    "# G has the dimension of N data x M model parameters.\n",
    "# note that the index in the CSV file fo from 1 to M, but python needs to go from 0 to M-1."
   ]
  },
  {
   "cell_type": "markdown",
   "metadata": {
    "id": "ZwtyIatJBb1b"
   },
   "source": [
    "#### d - Bonus (+ 2 points)\n",
    "\n",
    "Create the G matrix from scratch. Given each equation to express the residual travel time (i.e., giving each row of the G matrix), and the indexes of the grid block"
   ]
  },
  {
   "cell_type": "code",
   "execution_count": null,
   "metadata": {
    "id": "DxqVTYdvC_hU"
   },
   "outputs": [],
   "source": [
    "#answer below"
   ]
  },
  {
   "cell_type": "markdown",
   "metadata": {
    "id": "-nZt6CiHPmn-"
   },
   "source": [
    "#### e) Impulse response test. (3 points)\n",
    "\n",
    "The _true model_ on the left consists of a uniform slowness perturbation of –0.1 in the six cells defined by rows 14 to 16 and columns 12 to 13 in the grid, and 0.0 perturbations in all other cells. \n",
    "\n",
    "The _synthetic data_ is a set of travel time residuals.\n",
    "\n",
    "The _recovered model_ is obtained by solving the inverse problem of $\\mathbf{d} = \\mathbf{G} \\mathbf{m} $. Use the generalized inverse problem to solve. You can use ``np.linalg.lstsq`` to return the least-square solution (equivalent to the generalized inverse in class).\n"
   ]
  },
  {
   "cell_type": "markdown",
   "metadata": {
    "id": "p9m98pwCJPnW"
   },
   "source": [
    "#### e.1 Write the vector for the true model (1 point) \n",
    "_hint_: you can initialize the matrix 20x20 with zeros. Then you can fill the elements with -0.1. Remember that python indexes from 0 to N-1, and that to fill a(12:13), you have to write a[11:13] to fill 2 elements. Use ``np.reshape`` to transform the 2D matrix to 1D array."
   ]
  },
  {
   "cell_type": "code",
   "execution_count": null,
   "metadata": {
    "id": "3h5Q4K2DkKHi"
   },
   "outputs": [],
   "source": [
    "# answer below"
   ]
  },
  {
   "cell_type": "markdown",
   "metadata": {
    "id": "6cNxDiPdmRts"
   },
   "source": [
    "#### e.2 Given G, calculate theoretical perturbation arrival time. (1 point)\n",
    "_hint_: use the numpy function ``dot`` to apply a matrix to a vector."
   ]
  },
  {
   "cell_type": "code",
   "execution_count": null,
   "metadata": {
    "id": "2j7Hr745maf2"
   },
   "outputs": [],
   "source": [
    "# answer below"
   ]
  },
  {
   "cell_type": "markdown",
   "metadata": {
    "id": "uBjRqc8AnMYX"
   },
   "source": [
    "#### e.3 Invert the synthetic data to recover the velocity model (2 points)\n",
    "\n",
    "Use the generalized inverse or the least-square to recover the velocity model.\n",
    "\n",
    "Use the matplotlib function ``plt.matshow()`` to plot the recovered model. "
   ]
  },
  {
   "cell_type": "code",
   "execution_count": null,
   "metadata": {
    "colab": {
     "base_uri": "https://localhost:8080/"
    },
    "collapsed": true,
    "executionInfo": {
     "elapsed": 126,
     "status": "ok",
     "timestamp": 1676246392743,
     "user": {
      "displayName": "Marine Denolle",
      "userId": "06487926295753276573"
     },
     "user_tz": 480
    },
    "id": "k1hpX227ng6O",
    "jupyter": {
     "outputs_hidden": true
    },
    "outputId": "d021c6e9-28a9-447f-bc0d-0b709c613ac7"
   },
   "outputs": [
    {
     "name": "stdout",
     "output_type": "stream",
     "text": [
      "(118, 400)\n",
      "(118, 1)\n"
     ]
    },
    {
     "name": "stderr",
     "output_type": "stream",
     "text": [
      "<ipython-input-10-f19713b16f9a>:4: FutureWarning: `rcond` parameter will change to the default of machine precision times ``max(M, N)`` where M and N are the input matrix dimensions.\n",
      "To use the future default and silence this warning we advise to pass `rcond=None`, to keep using the old, explicitly pass `rcond=-1`.\n",
      "  m = np.linalg.lstsq(G,d_synthetic)[0]\n"
     ]
    }
   ],
   "source": [
    "# answer below the inversion"
   ]
  },
  {
   "cell_type": "code",
   "execution_count": null,
   "metadata": {
    "colab": {
     "base_uri": "https://localhost:8080/",
     "height": 222
    },
    "collapsed": true,
    "executionInfo": {
     "elapsed": 313,
     "status": "ok",
     "timestamp": 1676246396201,
     "user": {
      "displayName": "Marine Denolle",
      "userId": "06487926295753276573"
     },
     "user_tz": 480
    },
    "id": "C1KvYxav9wtl",
    "jupyter": {
     "outputs_hidden": true
    },
    "outputId": "35dd68d5-b846-41e5-d6b5-b8816c0bebe7"
   },
   "outputs": [
    {
     "data": {
      "text/plain": [
       "<matplotlib.image.AxesImage at 0x7f8f4f6e9490>"
      ]
     },
     "execution_count": 11,
     "metadata": {},
     "output_type": "execute_result"
    },
    {
     "data": {
      "image/png": "[encoded data removed]",
      "text/plain": [
       "<Figure size 432x288 with 2 Axes>"
      ]
     },
     "metadata": {},
     "output_type": "display_data"
    }
   ],
   "source": [
    "# plot the matrix, "
   ]
  },
  {
   "cell_type": "markdown",
   "metadata": {
    "id": "keSQazRl-v3U"
   },
   "source": [
    "### f) Checkerboard test (3 points)\n",
    "\n",
    "Create a test model with alternating anomalies of in cell squares. Create synthetic data, invert them using damped least\n",
    "squares, and plot the result.\n",
    "\n",
    "We use the kronecker function ``kron`` in numpy to create a checkerboard model of a 20 x 20 grid."
   ]
  },
  {
   "cell_type": "code",
   "execution_count": null,
   "metadata": {
    "colab": {
     "base_uri": "https://localhost:8080/",
     "height": 293
    },
    "collapsed": true,
    "executionInfo": {
     "elapsed": 294,
     "status": "ok",
     "timestamp": 1676294427541,
     "user": {
      "displayName": "Marine Denolle",
      "userId": "06487926295753276573"
     },
     "user_tz": 480
    },
    "id": "Namnt8_L_7Vz",
    "jupyter": {
     "outputs_hidden": true
    },
    "outputId": "5e0b6f7c-075b-446d-e9cd-38cb19ee465a"
   },
   "outputs": [
    {
     "data": {
      "text/plain": [
       "<matplotlib.image.AxesImage at 0x7f7d3d1f2f70>"
      ]
     },
     "execution_count": 6,
     "metadata": {},
     "output_type": "execute_result"
    },
    {
     "data": {
      "image/png": "[encoded data removed]",
      "text/plain": [
       "<Figure size 288x288 with 1 Axes>"
      ]
     },
     "metadata": {},
     "output_type": "display_data"
    }
   ],
   "source": [
    "mm=np.kron([[1, 0] * 2, [0, 1] * 2] *2, np.ones((5, 5)))\n",
    "plt.matshow(mm)"
   ]
  },
  {
   "cell_type": "markdown",
   "metadata": {
    "id": "vb2pLu6KBSIU"
   },
   "source": [
    "reshape the array, calculate synthetics, and invert the model just as above. (3 points)"
   ]
  },
  {
   "cell_type": "code",
   "execution_count": null,
   "metadata": {
    "colab": {
     "base_uri": "https://localhost:8080/",
     "height": 366
    },
    "collapsed": true,
    "executionInfo": {
     "elapsed": 1387,
     "status": "ok",
     "timestamp": 1676294460498,
     "user": {
      "displayName": "Marine Denolle",
      "userId": "06487926295753276573"
     },
     "user_tz": 480
    },
    "id": "sAAJpCiNBWff",
    "jupyter": {
     "outputs_hidden": true
    },
    "outputId": "d513bfa1-4a17-47c5-f6cd-1e7a063ca521"
   },
   "outputs": [
    {
     "name": "stderr",
     "output_type": "stream",
     "text": [
      "<ipython-input-11-53519da1af5e>:4: FutureWarning: `rcond` parameter will change to the default of machine precision times ``max(M, N)`` where M and N are the input matrix dimensions.\n",
      "To use the future default and silence this warning we advise to pass `rcond=None`, to keep using the old, explicitly pass `rcond=-1`.\n",
      "  crapm_2 = np.linalg.lstsq(G,d_synthetic)[0]\n"
     ]
    },
    {
     "data": {
      "text/plain": [
       "<matplotlib.image.AxesImage at 0x7f7d3ace9b20>"
      ]
     },
     "execution_count": 11,
     "metadata": {},
     "output_type": "execute_result"
    },
    {
     "data": {
      "image/png": "[encoded data removed]",
      "text/plain": [
       "<Figure size 288x288 with 1 Axes>"
      ]
     },
     "metadata": {},
     "output_type": "display_data"
    }
   ],
   "source": [
    "# answer below"
   ]
  },
  {
   "cell_type": "markdown",
   "metadata": {
    "id": "y8j7JLvcCmcC"
   },
   "source": [
    "#### g) Best ray configurations (1 point)\n",
    "\n",
    "By selecting a few rays or data points, you can gain some intuition for what the best ray configuration is."
   ]
  },
  {
   "cell_type": "code",
   "execution_count": null,
   "metadata": {
    "colab": {
     "base_uri": "https://localhost:8080/",
     "height": 366
    },
    "collapsed": true,
    "executionInfo": {
     "elapsed": 385,
     "status": "ok",
     "timestamp": 1676294838755,
     "user": {
      "displayName": "Marine Denolle",
      "userId": "06487926295753276573"
     },
     "user_tz": 480
    },
    "id": "H4UDfjCQEmo7",
    "jupyter": {
     "outputs_hidden": true
    },
    "outputId": "b47417f6-7867-4fe9-ceae-6fc487fc7fea"
   },
   "outputs": [
    {
     "name": "stderr",
     "output_type": "stream",
     "text": [
      "<ipython-input-15-88c309a8f3e4>:2: FutureWarning: `rcond` parameter will change to the default of machine precision times ``max(M, N)`` where M and N are the input matrix dimensions.\n",
      "To use the future default and silence this warning we advise to pass `rcond=None`, to keep using the old, explicitly pass `rcond=-1`.\n",
      "  crapm_2 = np.linalg.lstsq(G[40:80,:],d_synthetic[40:80])[0]\n"
     ]
    },
    {
     "data": {
      "text/plain": [
       "<matplotlib.image.AxesImage at 0x7f7d3aba0d00>"
      ]
     },
     "execution_count": 15,
     "metadata": {},
     "output_type": "execute_result"
    },
    {
     "data": {
      "image/png": "[encoded data removed]",
      "text/plain": [
       "<Figure size 288x288 with 1 Axes>"
      ]
     },
     "metadata": {},
     "output_type": "display_data"
    }
   ],
   "source": [
    "# below is a cell you can experiment to 1) create"
   ]
  },
  {
   "cell_type": "markdown",
   "metadata": {
    "id": "ATfPswc19iuR"
   },
   "source": [
    "Below, answer the question: Is the best configuration a combination of horiztonal and vertical rays (answer: HV) or diagonal rays (answer D) ? "
   ]
  },
  {
   "cell_type": "code",
   "execution_count": null,
   "metadata": {
    "id": "0fpIJnmk9t3P"
   },
   "outputs": [],
   "source": [
    "# answer below either HV or D\n"
   ]
  }
 ],
 "metadata": {
  "colab": {
   "provenance": [
    {
     "file_id": "1zBked7_iN1yR7Pg3mrUSg10YEuZt8dsT",
     "timestamp": 1677262035450
    },
    {
     "file_id": "1AcBpztCgi29oDkbQRnpv6tdfXik7dBfL",
     "timestamp": 1676295067293
    }
   ]
  },
  "kernelspec": {
   "display_name": "Python 3 (ipykernel)",
   "language": "python",
   "name": "python3"
  },
  "language_info": {
   "codemirror_mode": {
    "name": "ipython",
    "version": 3
   },
   "file_extension": ".py",
   "mimetype": "text/x-python",
   "name": "python",
   "nbconvert_exporter": "python",
   "pygments_lexer": "ipython3",
   "version": "3.10.9"
  }
 },
 "nbformat": 4,
 "nbformat_minor": 4
}
