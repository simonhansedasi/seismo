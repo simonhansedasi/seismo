{
 "cells": [
  {
   "cell_type": "code",
   "execution_count": 1,
   "id": "85267581-c3d3-48e4-a9a3-adf510cc5ed9",
   "metadata": {},
   "outputs": [],
   "source": [
    "import numpy as np\n",
    "import matplotlib.pyplot as plt"
   ]
  },
  {
   "cell_type": "markdown",
   "id": "119e24b8-46ff-45e0-906b-60a03e607573",
   "metadata": {},
   "source": [
    "## 1.)\n",
    "\n",
    "A downgoing P wave in a medium with a P velocity of 6 km/s travels through this “corner” shaped structure. If the incident ray is at an angle of 60◦ from the horizontal and the final ray is at an angle of 75◦ from the vertical, what is the P velocity within the corner-shaped medium?\n",
    "\n",
    "<img src=\"box_alpha.jpg\" alt=\"drawing\" width=\"600\"/>\n",
    "\n",
    "Start with Snell's Law to find $\\alpha_{2}$ and write two equations for the two unkowns.\\\n",
    "\n",
    "\n",
    "$\\frac{\\sin{\\theta{1}}}{\\alpha_{1}} = \\frac{\\sin{\\theta_{2}}}{\\alpha_{2}}$ and $\\frac{\\left(\\sin90 - \\theta_{2}\\right)}{\\alpha_{2}} = \\frac{\\sin{\\theta_{3}}}{\\alpha{1}}$ where $\\theta_{1} = 30^\\circ$ and $\\theta_{3} = 15^\\circ$ and $\\alpha_{1} = 6$.\n",
    "\n",
    "$\\alpha_{2} = \\frac{\\alpha_{1}\\sin\\left(90 - \\theta_{2}\\right)}{\\sin{\\theta_{3}}} = \\frac{\\alpha_{1}\\cos\\theta_{2}}{\\sin{\\theta_{3}}}$\n",
    "\n",
    "and \n",
    "\n",
    "$\\alpha_{2} = \\frac{\\alpha_{1}\\sin\\theta_{2}}{\\sin{\\theta_{1}}} \\rightarrow \\frac{\\cos\\theta_{2}}{\\sin{\\theta_{3}}} = \\frac{\\sin\\theta_{2}}{\\sin{\\theta_{1}}} \\Rightarrow \\frac{\\sin{\\theta_{1}}}{\\sin{\\theta_{3}}} = \\tan{\\theta_{2}} \\Rightarrow \\theta_{2} = \\tan^{-1}{\\frac{\\sin{\\theta_{1}}}{\\sin{\\theta_{3}}}}$\n",
    "\n",
    "$\\alpha_{2} = \\alpha_{1} \\frac{\n",
    "\\cos\\left(\\theta_{2}\n",
    "\t\\right)}\n",
    "{\\sin{\\theta_{3}}}$"
   ]
  },
  {
   "cell_type": "code",
   "execution_count": 2,
   "id": "4fc6ad99-44a1-4040-91d8-13b5e3d505ad",
   "metadata": {},
   "outputs": [
    {
     "name": "stdout",
     "output_type": "stream",
     "text": [
      "Wavespeed in the object is: 10.66 km/s\n"
     ]
    }
   ],
   "source": [
    "#question 1\n",
    "alpha_1 = 6\n",
    "theta_1 = 30 * (np.pi / 180)\n",
    "theta_3 = 15 * (np.pi / 180)\n",
    "theta_2 = np.arctan(\n",
    "    np.sin(theta_1) / np.sin(theta_3)\n",
    ")\n",
    "alpha_2 = np.round(alpha_1 * (np.cos(theta_2) / np.sin(theta_3)),2)\n",
    "print(f'Wavespeed in the object is: {alpha_2} km/s')"
   ]
  },
  {
   "cell_type": "markdown",
   "id": "efa3f402-57c5-42f1-a677-e11c08134f7a",
   "metadata": {},
   "source": [
    "## 2.)\n",
    "\n",
    "Model the Antarctic ice sheet as a simple layer over half-space with h = 2 km, ρ1 = 900 kg/m3, ρ2 = 2.6 g/cm3, β1 = 1950 m/s, and β2 = 3250 m/s. "
   ]
  },
  {
   "cell_type": "markdown",
   "id": "751975c2-975b-4df8-82fd-cbc5e0151f80",
   "metadata": {},
   "source": [
    "We can re-write $\\mu$ in terms of $\\beta$ and $\\rho$ as $\\mu = \\beta^{2} \\rho$. Now:\n",
    "\n",
    "$\n",
    "h\\omega\\sqrt{\\frac{1}{\\beta_{1}^{2}} - \\frac{1}{c^{2}}} = \\tan^{-1}\\left[\n",
    "\t\\frac{\\beta_{2}^{2}\\rho_{2}\\sqrt{\\frac{1}{c^{2}} - \\frac{1}{\\beta_{2}^{2}}}}{\\beta_{1}^{2}\\rho_{1}\\sqrt{\\frac{1}{\\beta_{1}^{2}} - \\frac{1}{c^{2}}}}\n",
    "\\right] \\Rightarrow \\omega = \\frac{\\tan^{-1}\\left[\n",
    "\t\\frac{\\beta_{2}^{2}\\rho_{2}\\sqrt{\\frac{1}{c^{2}} - \\frac{1}{\\beta_{2}^{2}}}}{\\beta_{1}^{2}\\rho_{1}\\sqrt{\\frac{1}{\\beta_{1}^{2}} - \\frac{1}{c^{2}}}}\n",
    "\\right]}{h\\sqrt{\\frac{1}{\\beta_{1}^{2}} - \\frac{1}{c^{2}}}}$"
   ]
  },
  {
   "cell_type": "markdown",
   "id": "28a2d032-1f63-4641-bc51-d72f1d202c69",
   "metadata": {},
   "source": [
    "## A.)"
   ]
  },
  {
   "cell_type": "code",
   "execution_count": 4,
   "id": "b58b269d-5f9e-4485-9845-ef5002a10a17",
   "metadata": {},
   "outputs": [],
   "source": [
    "import pandas as pd"
   ]
  },
  {
   "cell_type": "code",
   "execution_count": 5,
   "id": "a6ba1ebc-68c3-43b5-84ad-24739bbf520a",
   "metadata": {},
   "outputs": [
    {
     "data": {
      "text/html": [
       "<div>\n",
       "<style scoped>\n",
       "    .dataframe tbody tr th:only-of-type {\n",
       "        vertical-align: middle;\n",
       "    }\n",
       "\n",
       "    .dataframe tbody tr th {\n",
       "        vertical-align: top;\n",
       "    }\n",
       "\n",
       "    .dataframe thead th {\n",
       "        text-align: right;\n",
       "    }\n",
       "</style>\n",
       "<table border=\"1\" class=\"dataframe\">\n",
       "  <thead>\n",
       "    <tr style=\"text-align: right;\">\n",
       "      <th></th>\n",
       "      <th>speed (km/s)</th>\n",
       "      <th>omega (s^-1)</th>\n",
       "      <th>period (s)</th>\n",
       "    </tr>\n",
       "  </thead>\n",
       "  <tbody>\n",
       "    <tr>\n",
       "      <th>0</th>\n",
       "      <td>2.0</td>\n",
       "      <td>0.089497</td>\n",
       "      <td>11.17</td>\n",
       "    </tr>\n",
       "    <tr>\n",
       "      <th>1</th>\n",
       "      <td>2.4</td>\n",
       "      <td>0.234798</td>\n",
       "      <td>4.26</td>\n",
       "    </tr>\n",
       "    <tr>\n",
       "      <th>2</th>\n",
       "      <td>2.8</td>\n",
       "      <td>0.289037</td>\n",
       "      <td>3.46</td>\n",
       "    </tr>\n",
       "    <tr>\n",
       "      <th>3</th>\n",
       "      <td>3.2</td>\n",
       "      <td>0.319348</td>\n",
       "      <td>3.13</td>\n",
       "    </tr>\n",
       "  </tbody>\n",
       "</table>\n",
       "</div>"
      ],
      "text/plain": [
       "   speed (km/s)  omega (s^-1)  period (s)\n",
       "0           2.0      0.089497       11.17\n",
       "1           2.4      0.234798        4.26\n",
       "2           2.8      0.289037        3.46\n",
       "3           3.2      0.319348        3.13"
      ]
     },
     "execution_count": 5,
     "metadata": {},
     "output_type": "execute_result"
    }
   ],
   "source": [
    "df = pd.DataFrame()\n",
    "\n",
    "c = [2.000, 2.400, 2.800, 3.200]\n",
    "# put everything in kilometers and grams\n",
    "h = 2 \n",
    "rho_1 = 900  * (1/1e-9) * (1e3)\n",
    "rho_2 = 2.6 * (1/1e-15) \n",
    "beta_1 = 1.950\n",
    "beta_2 = 3.250\n",
    "for speed in c:\n",
    "    c = speed\n",
    "    theta = (beta_2**2 * rho_2 * np.sqrt((1/c**2) - (1/beta_2**2)\n",
    "        ))/ beta_1**2 * rho_1 * np.sqrt((1/beta_1**2) - (1/c**2))\n",
    "    omega = np.arctan(theta) / h * np.sqrt((1/beta_1**2) - (1/c**2))\n",
    "    T = np.round(1 / omega, 2)\n",
    "    df = pd.concat([df, pd.Series(c)], ignore_index = True)\n",
    "    df.loc[df.index[-1], 'omega (s^-1)'] = omega\n",
    "    df.loc[df.index[-1], 'omega (s^-1)'] = omega\n",
    "    df.loc[df.index[-1], 'period (s)'] = T\n",
    "\n",
    "df = df.rename(columns = {0:'speed (km/s)'})\n",
    "df"
   ]
  },
  {
   "cell_type": "code",
   "execution_count": 8,
   "id": "aac78ce7-b032-4de5-a0b5-4ef2f7e9a11a",
   "metadata": {},
   "outputs": [
    {
     "name": "stderr",
     "output_type": "stream",
     "text": [
      "/tmp/ipykernel_318330/3278707206.py:20: RuntimeWarning: invalid value encountered in sqrt\n",
      "  ))/ beta_1**2 * rho_1 * np.sqrt((1/beta_1**2) - (1/c**2))\n",
      "/tmp/ipykernel_318330/3278707206.py:21: RuntimeWarning: invalid value encountered in sqrt\n",
      "  omega = (np.arctan(theta) + i * np.pi) / (h * np.sqrt((1/beta_1**2) - (1/c**2)))\n",
      "/tmp/ipykernel_318330/3278707206.py:19: RuntimeWarning: invalid value encountered in sqrt\n",
      "  theta = (beta_2**2 * rho_2 * np.sqrt((1/c**2) - (1/beta_2**2)\n"
     ]
    },
    {
     "data": {
      "text/plain": [
       "(0.0, 20.0)"
      ]
     },
     "execution_count": 8,
     "metadata": {},
     "output_type": "execute_result"
    },
    {
     "data": {
      "image/png": "[encoded data removed]",
      "text/plain": [
       "<Figure size 640x480 with 1 Axes>"
      ]
     },
     "metadata": {},
     "output_type": "display_data"
    }
   ],
   "source": [
    "nbeta = 100001\n",
    "cc = np.zeros((len(range(0,3,1)),nbeta - 2))\n",
    "ww = np.zeros((len(range(0,3,1)),nbeta - 2))\n",
    "h = 2000\n",
    "beta_1 = 1950\n",
    "beta_2 = 3250\n",
    "rho_1 = 900\n",
    "rho_2 = 2600\n",
    "\n",
    "carray = np.linspace(beta_1 - 2, beta_2 + 2, nbeta - 2)\n",
    "\n",
    "\n",
    "for i in range(0,3,1):\n",
    "    for j in range(len(carray)):\n",
    "        c = carray[j]\n",
    "        cc[i,j] = c\n",
    "        first = 1/c**2\n",
    "\n",
    "        theta = (beta_2**2 * rho_2 * np.sqrt((1/c**2) - (1/beta_2**2)\n",
    "            ))/ beta_1**2 * rho_1 * np.sqrt((1/beta_1**2) - (1/c**2))\n",
    "        omega = (np.arctan(theta) + i * np.pi) / (h * np.sqrt((1/beta_1**2) - (1/c**2)))\n",
    "        \n",
    "        ww[i,j] = omega\n",
    "        \n",
    "plt.plot(ww[0], cc[0])\n",
    "plt.plot(ww[1], cc[1])\n",
    "plt.plot(ww[2], cc[2])\n",
    "plt.xlim(0,20)"
   ]
  }
 ],
 "metadata": {
  "kernelspec": {
   "display_name": "Python 3 (ipykernel)",
   "language": "python",
   "name": "python3"
  },
  "language_info": {
   "codemirror_mode": {
    "name": "ipython",
    "version": 3
   },
   "file_extension": ".py",
   "mimetype": "text/x-python",
   "name": "python",
   "nbconvert_exporter": "python",
   "pygments_lexer": "ipython3",
   "version": "3.10.8"
  }
 },
 "nbformat": 4,
 "nbformat_minor": 5
}
