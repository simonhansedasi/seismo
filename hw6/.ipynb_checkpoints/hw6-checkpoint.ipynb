{
 "cells": [
  {
   "cell_type": "code",
   "execution_count": 1,
   "id": "85267581-c3d3-48e4-a9a3-adf510cc5ed9",
   "metadata": {},
   "outputs": [],
   "source": [
    "import numpy as np"
   ]
  },
  {
   "cell_type": "code",
   "execution_count": 8,
   "id": "cf36fe55-6153-4a14-a5e2-fef74f5ee571",
   "metadata": {},
   "outputs": [],
   "source": [
    "# put everything in meters and grams\n",
    "h = 2 * 1000 \n",
    "rho_1 = 900 * (1e3) \n",
    "rho_2 = 2.6 * (1e-6)\n",
    "beta_1 = 1950\n",
    "beta_2 = 3250"
   ]
  },
  {
   "cell_type": "code",
   "execution_count": null,
   "id": "e230a455-5baf-4d15-9d7a-186aeaa4b355",
   "metadata": {},
   "outputs": [],
   "source": [
    "omega = 2*np.pi / T\n",
    "T = 2*np.pi / omega"
   ]
  },
  {
   "cell_type": "code",
   "execution_count": 24,
   "id": "78b0ae0e-72fb-461b-b899-9addf50e3f8e",
   "metadata": {},
   "outputs": [
    {
     "name": "stdout",
     "output_type": "stream",
     "text": [
      "C=2000 corresponds with omega 1.66 * 10^-14 * s^-1 and period 3.79 s\n",
      "C=2400 corresponds with omega 8.16 * 10^-14 * s^-1 and period 0.77 s\n",
      "C=2800 corresponds with omega 7.98 * 10^-14 * s^-1 and period 0.79 s\n",
      "C=3200 corresponds with omega 2.93 * 10^-14 * s^-1 and period 2.14 s\n"
     ]
    }
   ],
   "source": [
    "c = [2000, 2400, 2800, 3200]\n",
    "for speed in c:\n",
    "    c = speed\n",
    "    omega = np.round((\n",
    "        np.arctan(\n",
    "            (\n",
    "                beta_2**2 * rho_2 * np.sqrt((1/c**2) - (1/beta_2**2))\n",
    "            ) / beta_1**2 * rho_1 * np.sqrt((1/beta_1**2) - (1/c**2))\n",
    "        ) / h * np.sqrt((1/beta_1**2) - (1/c**2))\n",
    "    ) * 1e14, 2)\n",
    "    T = np.round(2*np.pi / omega, 2)\n",
    "    print(f'C={c} corresponds with omega {omega} * 10^-14 * s^-1 and period {T} s')"
   ]
  }
 ],
 "metadata": {
  "kernelspec": {
   "display_name": "Python 3",
   "language": "python",
   "name": "python3"
  },
  "language_info": {
   "codemirror_mode": {
    "name": "ipython",
    "version": 3
   },
   "file_extension": ".py",
   "mimetype": "text/x-python",
   "name": "python",
   "nbconvert_exporter": "python",
   "pygments_lexer": "ipython3",
   "version": "3.7.16"
  }
 },
 "nbformat": 4,
 "nbformat_minor": 5
}
