{
 "cells": [
  {
   "cell_type": "code",
   "execution_count": 1,
   "id": "85267581-c3d3-48e4-a9a3-adf510cc5ed9",
   "metadata": {},
   "outputs": [],
   "source": [
    "import numpy as np"
   ]
  },
  {
   "cell_type": "code",
   "execution_count": 36,
   "id": "4fc6ad99-44a1-4040-91d8-13b5e3d505ad",
   "metadata": {},
   "outputs": [
    {
     "name": "stdout",
     "output_type": "stream",
     "text": [
      "10.656886007725385\n"
     ]
    }
   ],
   "source": [
    "#question 1\n",
    "alpha_1 = 6\n",
    "theta_1 = 30 * (np.pi / 180)\n",
    "theta_3 = 15 * (np.pi / 180)\n",
    "theta_2 = np.arctan(\n",
    "    np.sin(theta_1) / np.sin(theta_3)\n",
    ")\n",
    "alpha_2 = alpha_1 * (np.cos(theta_2) / np.sin(theta_3))\n",
    "print(alpha_2)"
   ]
  },
  {
   "cell_type": "code",
   "execution_count": 86,
   "id": "cf36fe55-6153-4a14-a5e2-fef74f5ee571",
   "metadata": {},
   "outputs": [],
   "source": [
    "#question 2\n",
    "# put everything in kilometers and grams\n",
    "h = 2 \n",
    "rho_1 = 900 * (1/1e6) * (1e3)\n",
    "rho_2 = 2.6 * (1/1e-15) \n",
    "beta_1 = 1.950\n",
    "beta_2 = 3.250"
   ]
  },
  {
   "cell_type": "code",
   "execution_count": 87,
   "id": "e230a455-5baf-4d15-9d7a-186aeaa4b355",
   "metadata": {},
   "outputs": [],
   "source": [
    "# omega = 2*np.pi / T\n",
    "# T = 2*np.pi / omega"
   ]
  },
  {
   "cell_type": "code",
   "execution_count": 89,
   "id": "78b0ae0e-72fb-461b-b899-9addf50e3f8e",
   "metadata": {},
   "outputs": [
    {
     "name": "stdout",
     "output_type": "stream",
     "text": [
      "C=2.0 corresponds with omega 0.08949707142664413 * s^-1 and period 70.21 s\n",
      "C=2.4 corresponds with omega 0.23479828133356723 * s^-1 and period 26.76 s\n",
      "C=2.8 corresponds with omega 0.289037043537614 * s^-1 and period 21.74 s\n",
      "C=3.2 corresponds with omega 0.3193477882909162 * s^-1 and period 19.68 s\n"
     ]
    }
   ],
   "source": [
    "c = [2.000, 2.400, 2.800, 3.200]\n",
    "for speed in c:\n",
    "    c = speed\n",
    "    theta = (beta_2**2 * rho_2 * np.sqrt((1/c**2) - (1/beta_2**2)\n",
    "        ))/ beta_1**2 * rho_1 * np.sqrt((1/beta_1**2) - (1/c**2))\n",
    "    # print(theta)\n",
    "    omega = np.arctan(theta * np.pi / 180) / h * np.sqrt((1/beta_1**2) - (1/c**2))                                         \n",
    "    T = np.round(2*np.pi / omega, 2)\n",
    "    print(f'C={c} corresponds with omega {omega} * s^-1 and period {T} s')"
   ]
  },
  {
   "cell_type": "code",
   "execution_count": 8,
   "id": "56214c03-9251-49d0-bd25-e9e63fcf3bcd",
   "metadata": {},
   "outputs": [],
   "source": [
    "#question 3\n",
    "# put everything in meters and grams\n",
    "h = 2 * 1000 \n",
    "rho_1 = 900 * (1e3) \n",
    "rho_2 = 2.6 * (1e-6)\n",
    "beta_1 = 1950\n",
    "beta_2 = 3250"
   ]
  },
  {
   "cell_type": "code",
   "execution_count": null,
   "id": "317198e6-9012-4137-8246-eca65fc90ec6",
   "metadata": {},
   "outputs": [],
   "source": [
    "omega = 2*np.pi / T\n",
    "T = 2*np.pi / omega"
   ]
  },
  {
   "cell_type": "code",
   "execution_count": 41,
   "id": "6ae1f807-8ac6-4b98-a74e-6096d2e1a8ce",
   "metadata": {},
   "outputs": [
    {
     "name": "stdout",
     "output_type": "stream",
     "text": [
      "100.0\n",
      "600.0\n",
      "1100.0\n",
      "1600.0\n",
      "2100.0\n",
      "2600.0\n",
      "3100.0\n",
      "3600.0\n",
      "4100.0\n",
      "4600.0\n",
      "5100.0\n",
      "5600.0\n",
      "6100.0\n",
      "6600.0\n",
      "7100.0\n",
      "7600.0\n",
      "8100.0\n",
      "8600.0\n",
      "9100.0\n",
      "9600.0\n",
      "10100.0\n",
      "10600.0\n",
      "11100.0\n",
      "11600.0\n",
      "12100.0\n",
      "12600.0\n",
      "13100.0\n",
      "13600.0\n",
      "14100.0\n",
      "14600.0\n",
      "15100.0\n",
      "15600.0\n",
      "16100.0\n",
      "16600.0\n",
      "17100.0\n",
      "17600.0\n",
      "18100.0\n",
      "18600.0\n",
      "19100.0\n",
      "19600.0\n"
     ]
    }
   ],
   "source": [
    "# c = range()\n",
    "for speed in np.arange(0.1 * 1e3,20 * 1e3,.5 * 1e3):\n",
    "    \n",
    "    print(speed)\n",
    "    # c = speed\n",
    "    # omega = np.round((\n",
    "    #     np.arctan(\n",
    "    #         (\n",
    "    #             beta_2**2 * rho_2 * np.sqrt((1/c**2) - (1/beta_2**2))\n",
    "    #         ) / beta_1**2 * rho_1 * np.sqrt((1/beta_1**2) - (1/c**2))\n",
    "    #     ) / h * np.sqrt((1/beta_1**2) - (1/c**2))\n",
    "    # ) * 1e14, 2)\n",
    "    # T = np.round(2*np.pi / omega, 2)\n",
    "    # print(f'C={c} corresponds with omega {omega} * 10^-14 * s^-1 and period {T} s')"
   ]
  }
 ],
 "metadata": {
  "kernelspec": {
   "display_name": "Python 3",
   "language": "python",
   "name": "python3"
  },
  "language_info": {
   "codemirror_mode": {
    "name": "ipython",
    "version": 3
   },
   "file_extension": ".py",
   "mimetype": "text/x-python",
   "name": "python",
   "nbconvert_exporter": "python",
   "pygments_lexer": "ipython3",
   "version": "3.7.16"
  }
 },
 "nbformat": 4,
 "nbformat_minor": 5
}
